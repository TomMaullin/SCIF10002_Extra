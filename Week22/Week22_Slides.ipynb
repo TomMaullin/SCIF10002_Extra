{
 "cells": [
  {
   "cell_type": "markdown",
   "id": "5ba911ae",
   "metadata": {
    "slideshow": {
     "slide_type": "slide"
    }
   },
   "source": [
    "# Introduction to Coding and Data Analysis for Scientists\n"
   ]
  },
  {
   "cell_type": "markdown",
   "id": "3c97ace3",
   "metadata": {
    "slideshow": {
     "slide_type": "fragment"
    }
   },
   "source": [
    "## Week 22: Drop-in Sesson"
   ]
  },
  {
   "cell_type": "markdown",
   "id": "ab2a33e7",
   "metadata": {
    "slideshow": {
     "slide_type": "slide"
    }
   },
   "source": [
    "## Programming Project Amended Deadline"
   ]
  },
  {
   "cell_type": "markdown",
   "id": "f5c52c28",
   "metadata": {
    "slideshow": {
     "slide_type": "fragment"
    }
   },
   "source": [
    "The project 4 deadline has been extended by 5 days."
   ]
  },
  {
   "cell_type": "markdown",
   "id": "94d5cf68",
   "metadata": {
    "slideshow": {
     "slide_type": "fragment"
    }
   },
   "source": [
    "The previous deadline was: **Wednesday 26 March 2025 at 12 midday.**"
   ]
  },
  {
   "cell_type": "markdown",
   "id": "3a805e53",
   "metadata": {
    "slideshow": {
     "slide_type": "fragment"
    }
   },
   "source": [
    "The updated deadline is: **Monday 31 March 2025 at 12 midday.**"
   ]
  },
  {
   "cell_type": "markdown",
   "id": "5b12dd3a",
   "metadata": {
    "slideshow": {
     "slide_type": "slide"
    }
   },
   "source": [
    "### What is this session?"
   ]
  },
  {
   "cell_type": "markdown",
   "id": "f4cdfe7a",
   "metadata": {
    "slideshow": {
     "slide_type": "fragment"
    }
   },
   "source": [
    " - This session is an informal drop-in session/computer lab."
   ]
  },
  {
   "cell_type": "markdown",
   "id": "ed240ff3",
   "metadata": {
    "slideshow": {
     "slide_type": "fragment"
    }
   },
   "source": [
    " - You can use this time to:"
   ]
  },
  {
   "cell_type": "markdown",
   "id": "d056cbc6",
   "metadata": {
    "slideshow": {
     "slide_type": "fragment"
    }
   },
   "source": [
    "<ul style=\"margin-left: 2em; list-style-type: circle;\">\n",
    "    <li>Work on Project 4.</li>\n",
    "</ul>"
   ]
  },
  {
   "cell_type": "markdown",
   "id": "fe6199b5",
   "metadata": {
    "slideshow": {
     "slide_type": "fragment"
    }
   },
   "source": [
    "<ul style=\"margin-left: 2em; list-style-type: circle;\">\n",
    "    <li>Look through main material from previous classes.</li>\n",
    "</ul>"
   ]
  },
  {
   "cell_type": "markdown",
   "id": "c3e2acee",
   "metadata": {
    "slideshow": {
     "slide_type": "fragment"
    }
   },
   "source": [
    "<ul style=\"margin-left: 2em; list-style-type: circle;\">\n",
    "    <li>Work through the supplementary material from the previous 4 sessions.</li>\n",
    "</ul>"
   ]
  },
  {
   "cell_type": "markdown",
   "id": "06c7e616",
   "metadata": {
    "slideshow": {
     "slide_type": "fragment"
    }
   },
   "source": [
    "<ul style=\"margin-left: 2em; list-style-type: circle;\">\n",
    "    <li>Work on other related material.</li>\n",
    "</ul>"
   ]
  },
  {
   "cell_type": "markdown",
   "id": "1750b144",
   "metadata": {
    "slideshow": {
     "slide_type": "fragment"
    }
   },
   "source": [
    "<ul style=\"margin-left: 2em; list-style-type: circle;\">\n",
    "    <li>Ask questions in person.</li>\n",
    "</ul>"
   ]
  },
  {
   "cell_type": "markdown",
   "id": "3ab53245",
   "metadata": {
    "slideshow": {
     "slide_type": "fragment"
    }
   },
   "source": [
    "<ul style=\"margin-left: 2em; list-style-type: circle;\">\n",
    "    <li>Ask questions on the online form.</li>\n",
    "</ul>"
   ]
  },
  {
   "cell_type": "markdown",
   "id": "3af4640c",
   "metadata": {
    "slideshow": {
     "slide_type": "fragment"
    }
   },
   "source": [
    " - Use the time however you feel is most productive.\n"
   ]
  },
  {
   "cell_type": "markdown",
   "id": "d895dfd0",
   "metadata": {
    "slideshow": {
     "slide_type": "fragment"
    }
   },
   "source": [
    " - We have the room until 5PM (myself and the demonstrators will be here until them)."
   ]
  },
  {
   "cell_type": "markdown",
   "id": "ff0ac1be",
   "metadata": {
    "slideshow": {
     "slide_type": "slide"
    }
   },
   "source": [
    "## Anonymous Question Form"
   ]
  },
  {
   "cell_type": "markdown",
   "id": "599f1512",
   "metadata": {
    "slideshow": {
     "slide_type": "fragment"
    }
   },
   "source": [
    "\n",
    "<img src=\"qr.png\" width=\"1000\">\n"
   ]
  }
 ],
 "metadata": {
  "celltoolbar": "Slideshow",
  "kernelspec": {
   "display_name": "Python 3 (ipykernel)",
   "language": "python",
   "name": "python3"
  },
  "language_info": {
   "codemirror_mode": {
    "name": "ipython",
    "version": 3
   },
   "file_extension": ".py",
   "mimetype": "text/x-python",
   "name": "python",
   "nbconvert_exporter": "python",
   "pygments_lexer": "ipython3",
   "version": "3.9.13"
  }
 },
 "nbformat": 4,
 "nbformat_minor": 5
}
