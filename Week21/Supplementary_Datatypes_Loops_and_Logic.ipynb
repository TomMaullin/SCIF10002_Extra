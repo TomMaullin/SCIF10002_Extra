{
 "cells": [
  {
   "cell_type": "markdown",
   "metadata": {
    "colab_type": "text",
    "id": "sdP_mooN054N"
   },
   "source": [
    "# Supplementary Datatypes, Loops and Logic Material"
   ]
  },
  {
   "cell_type": "markdown",
   "metadata": {
    "colab_type": "text",
    "id": "ajKT1WDFuQzW"
   },
   "source": [
    "This notebook recaps some of the basic language features which are built-in in python. If you aren't feeling confident on some of these concepts, we strongly recommend you read through this and attempt all exercises at the end of the notebook."
   ]
  },
  {
   "cell_type": "markdown",
   "metadata": {},
   "source": [
    "\n",
    "   - [Basic Data Types](#Basic-Data-Types)\n",
    "     - [Integers and floats](#Integers-and-floats)\n",
    "     - [Strings](#Strings)\n",
    "     - [Booleans](#Booleans)\n",
    "     - [Tuples and lists](#Tuples-and-lists)\n",
    "     - [Sets and Dictionarys](#Sets-and-Dictionarys)\n",
    "   - [If statements](#If-statements)\n",
    "   - [For loops](#For-loops)\n",
    "   - [While loops](#While-loops)\n",
    "   - [continue, break and pass statements](#continue,-break-and-pass-statements)\n",
    "   - [List comprehensions](#List-comprehensions)\n",
    "   - [Getting help](#Getting-help)\n",
    "   - [Exercises](#Exercises) (Recommended)"
   ]
  },
  {
   "cell_type": "markdown",
   "metadata": {
    "colab_type": "text",
    "id": "6TAI9vpnfeU8"
   },
   "source": [
    "## Basic Data Types\n",
    "\n"
   ]
  },
  {
   "cell_type": "markdown",
   "metadata": {
    "colab_type": "text",
    "id": "BrwSOg3082uT"
   },
   "source": [
    "In Python there are many different data types with some of the most commonly used built-in data types being:\n",
    "\n",
    " - integer and floating point scalars\n",
    " - boolean values\n",
    " - strings\n",
    " - tuples\n",
    " - lists\n",
    " - sets\n",
    " - dictionaries\n",
    "\n",
    "\n",
    " > **Note:** This list is by no means comprehensive. Other data types are also supported through common packages (e.g., `numpy`, `scipy`, `...`) and it is even possible to make your own custom datatypes!\n",
    "\n",
    "The \"type\" of a variable can be found using the `type()` function in python. Try changing and running the below code to see how this function is used. "
   ]
  },
  {
   "cell_type": "code",
   "execution_count": null,
   "metadata": {
    "colab": {
     "base_uri": "https://localhost:8080/",
     "height": 34
    },
    "colab_type": "code",
    "id": "_LA-5cpc04eL",
    "outputId": "8c340919-7b1d-43b4-c077-108b2d494ab4"
   },
   "outputs": [],
   "source": [
    "a = 1\n",
    "b = 1.1e-6\n",
    "c = True\n",
    "d = 'word'\n",
    "e = (2,3)\n",
    "f = [1, 2, 3]\n",
    "g = {'key1' : '9', 'key2': 20}\n",
    "\n",
    "type(a)"
   ]
  },
  {
   "cell_type": "markdown",
   "metadata": {
    "colab_type": "text",
    "id": "qoGB9vUryCmV"
   },
   "source": [
    " > **Note:** Python allows for scientific notation for floats (see for example `b` in the above; `1.1e-6` means `1.1` times `10` to the minus `6`)."
   ]
  },
  {
   "cell_type": "markdown",
   "metadata": {
    "colab_type": "text",
    "id": "fuPkyAqA6fc8"
   },
   "source": [
    "Values of variables can also be displayed with the `print()` function. If given many arguments, the print statement will print all of them. Try this below:"
   ]
  },
  {
   "cell_type": "code",
   "execution_count": null,
   "metadata": {
    "colab": {
     "base_uri": "https://localhost:8080/",
     "height": 67
    },
    "colab_type": "code",
    "id": "vGihAvCs6fyp",
    "outputId": "49edc0e7-488e-4376-fa6e-86ebb3fa132c"
   },
   "outputs": [],
   "source": [
    "a = 0.01\n",
    "b = 'strrring'\n",
    "c = [1,2,3]\n",
    "\n",
    "print(a)\n",
    "print(a,b,c)\n",
    "print(a,c)"
   ]
  },
  {
   "cell_type": "markdown",
   "metadata": {
    "colab_type": "text",
    "id": "xeFJifAn3hB9"
   },
   "source": [
    "Unlike in other languages, such as Java, in Python the data type of a variable is dynamic. This means that you do not need to specify the data type beforehand and it can easily be changed. For example, try moving the type statement before and after the sum in the below block and see how the output is changed. Why does the output change?"
   ]
  },
  {
   "cell_type": "code",
   "execution_count": null,
   "metadata": {
    "colab": {
     "base_uri": "https://localhost:8080/",
     "height": 34
    },
    "colab_type": "code",
    "id": "x_PwklC63gQL",
    "outputId": "d4267dac-2174-4e8d-8972-4769d1b53303"
   },
   "outputs": [],
   "source": [
    "a = 1\n",
    "b = 1.1\n",
    "\n",
    "print(type(a))\n",
    "\n",
    "a = a+b"
   ]
  },
  {
   "cell_type": "markdown",
   "metadata": {
    "colab_type": "text",
    "id": "Q9m1DXuUAlr8"
   },
   "source": [
    "Several inbuilt functions are available for converting between types. The most commonly used of these are the `int`, `float` and `str` functions. Try these out below. **Caution**: Note how converting `z` back to a float does not give the original value `x`. Why do you think this is?"
   ]
  },
  {
   "cell_type": "code",
   "execution_count": null,
   "metadata": {
    "colab": {
     "base_uri": "https://localhost:8080/",
     "height": 140
    },
    "colab_type": "code",
    "id": "t0QsqVUMAl2C",
    "outputId": "68ab5524-8d6b-4f09-be0e-9fd06031512c"
   },
   "outputs": [],
   "source": [
    "x = 1.1\n",
    "y = str(x)\n",
    "z = int(x)\n",
    "\n",
    "print(x)\n",
    "print(y)\n",
    "print(z)\n",
    "\n",
    "print(type(x))\n",
    "print(type(y))\n",
    "print(type(z))\n",
    "\n",
    "print(x - float(z))"
   ]
  },
  {
   "cell_type": "markdown",
   "metadata": {},
   "source": [
    "## Integers and floats"
   ]
  },
  {
   "cell_type": "markdown",
   "metadata": {
    "colab_type": "text",
    "id": "ZL9HYz-2bV4S"
   },
   "source": [
    "When first getting to grips with python, you can think of integers as \"whole numbers\" and floats as \"numbers including decimals\". Integers are represented with the `int` datatype and floats are represented with the `float` datatype. Basic mathematical operations are available for `int` types and `float` types. Try a few below:\n",
    "\n",
    " > **Warning:** A common mistake made by new users of Python is to use `^` for exponentiation. In fact, in Python `^` represents the logical `XOR` operator and the `**` operator represents exponentiation."
   ]
  },
  {
   "cell_type": "code",
   "execution_count": null,
   "metadata": {
    "colab": {
     "base_uri": "https://localhost:8080/",
     "height": 136
    },
    "colab_type": "code",
    "id": "60Lr-TQHbWDU",
    "outputId": "e3cb56f5-91af-440b-b77c-8c5cc41df7d8"
   },
   "outputs": [],
   "source": [
    "a = 3\n",
    "b = 2\n",
    "\n",
    "# Addition\n",
    "print(a+b)\n",
    "\n",
    "# Subtraction\n",
    "print(a-b)\n",
    "\n",
    "# Multiplication\n",
    "print(a*b)\n",
    "\n",
    "# Exponentiation\n",
    "print(a**b)\n",
    "\n",
    "# NOT EXPONENTIATION - ACTUALLY XOR\n",
    "print(a^b)\n",
    "\n",
    "# Division\n",
    "print(a/b)\n",
    "\n",
    "# Integer division (i.e. division with rounding down)\n",
    "print(a//b)\n",
    "\n",
    "# Modulo\n",
    "print(a % b)"
   ]
  },
  {
   "cell_type": "markdown",
   "metadata": {},
   "source": [
    "Often, you may hear it mentioned that Python allows for \"arbitrary precision\" integers. This means that Python can accurately manipulate very large numbers stored as `int`s. For example;\n"
   ]
  },
  {
   "cell_type": "code",
   "execution_count": null,
   "metadata": {},
   "outputs": [],
   "source": [
    "a = 174129409583938905209834890385935802\n",
    "b = 417873297348327895798237589723987598\n",
    "\n",
    "# Both a and b are ints\n",
    "print(type(a))\n",
    "print(type(b))\n",
    "\n",
    "# You can check for yourself that this is correct!\n",
    "print(a+b)"
   ]
  },
  {
   "cell_type": "markdown",
   "metadata": {},
   "source": [
    " > **Warning:** Although `int`s can store arbitrary precision whole numbers in Python, `float`s cannot!! Failure to realize this can result in all sorts of strange errors. For example, consider the below;"
   ]
  },
  {
   "cell_type": "code",
   "execution_count": null,
   "metadata": {},
   "outputs": [],
   "source": [
    "# Very big float\n",
    "a = 1e30\n",
    "\n",
    "# Lets have a look at `a`\n",
    "print(a)\n",
    "print(type(a))\n",
    "\n",
    "# Now let's round `a` to the nearest whole number... this shouldn't change `a`... right?\n",
    "b = round(a)\n",
    "\n",
    "# Wrong... try repeating the above but with `a` as an integer (i.e. change the first line to `a=1000...00`)\n",
    "print(b)\n",
    "print(type(b))"
   ]
  },
  {
   "cell_type": "markdown",
   "metadata": {
    "colab_type": "text",
    "id": "UdRF-dvQfacP"
   },
   "source": [
    "## Strings\n",
    "\n"
   ]
  },
  {
   "cell_type": "markdown",
   "metadata": {
    "colab_type": "text",
    "id": "V_EUvOWR8tj2"
   },
   "source": [
    "In this section we are going to look more at strings. \n",
    "\n",
    "A string is a finite sequence of characters (e.g., letters, numbers, symbols and punctuation marks). In python strings can be specified with either double of single quotes like so:\n"
   ]
  },
  {
   "cell_type": "code",
   "execution_count": null,
   "metadata": {
    "colab": {
     "base_uri": "https://localhost:8080/",
     "height": 87
    },
    "colab_type": "code",
    "id": "jiegjezK-3z9",
    "outputId": "b05bd3e5-7d0f-4ab5-e0d0-ce3335575069"
   },
   "outputs": [],
   "source": [
    "string1 = 'This is a string'\n",
    "string2 = \"This is also a string\"\n",
    "string3 = \"\"\n",
    "string4 = 'string3 is also a string!'\n",
    "\n",
    "print(string1)\n",
    "print(string2)\n",
    "print(string3)\n",
    "print(string4)"
   ]
  },
  {
   "cell_type": "markdown",
   "metadata": {
    "colab_type": "text",
    "id": "vr5YEytr-1HJ"
   },
   "source": [
    "An important characteristic of each string is its length, which is the number of characters in it. The length can be any natural number (i.e., zero or any positive integer). In python we can see the length of a string by using the `len()` function. In fact, this function can be used to assess the length of many different variable types such as lists, tuples, sets and so on (more on those later).\n",
    "\n"
   ]
  },
  {
   "cell_type": "code",
   "execution_count": null,
   "metadata": {
    "colab": {
     "base_uri": "https://localhost:8080/",
     "height": 70
    },
    "colab_type": "code",
    "id": "dS3t6oKL_X9p",
    "outputId": "092552b7-0eb0-4616-d346-bba52d7e6b2e"
   },
   "outputs": [],
   "source": [
    "string1 = 'loooooong string'\n",
    "string2 = 'shor'\n",
    "string3 = ''\n",
    "\n",
    "\n",
    "print(len(string1))\n",
    "print(len(string2))\n",
    "print(len(string3))"
   ]
  },
  {
   "cell_type": "markdown",
   "metadata": {
    "colab_type": "text",
    "id": "_gAsb7Sy_yu-"
   },
   "source": [
    "### String manipulation\n",
    "\n",
    "Python has many useful tools for manipulating strings. One such function is the `format` function, which allows you to insert variables of different types into strings. Note that `x` in the below example does not need to be a string."
   ]
  },
  {
   "cell_type": "code",
   "execution_count": null,
   "metadata": {
    "colab": {
     "base_uri": "https://localhost:8080/",
     "height": 34
    },
    "colab_type": "code",
    "id": "K-Gt3bC4_zDY",
    "outputId": "260478f9-60f0-4838-a68a-b009d8d29ec1"
   },
   "outputs": [],
   "source": [
    "x = 8\n",
    "y = 'John'\n",
    "s = \"{} is {} feet tall\".format(y, x)\n",
    "print(s)"
   ]
  },
  {
   "cell_type": "markdown",
   "metadata": {
    "colab_type": "text",
    "id": "3iR1cNtZDJdk"
   },
   "source": [
    "Another useful tool is the concatenation operater; `+`. Concatenation in programming is another way for saying \"join together\". See the below for an example of how this is done."
   ]
  },
  {
   "cell_type": "code",
   "execution_count": null,
   "metadata": {
    "colab": {
     "base_uri": "https://localhost:8080/",
     "height": 34
    },
    "colab_type": "code",
    "id": "F-862828DgY_",
    "outputId": "cb6020c4-ffee-4514-a584-cbf91a00ef2f"
   },
   "outputs": [],
   "source": [
    "a = 'string1'\n",
    "b = 'string2'\n",
    "c = a + ' ' + b\n",
    "\n",
    "print(c)"
   ]
  },
  {
   "cell_type": "markdown",
   "metadata": {
    "colab_type": "text",
    "id": "QdAp2nszDtS3"
   },
   "source": [
    "In fact, the previous example could be done using concatenation instead of the `format` funtion. Note though that we must be careful and convert `x` from an integer to a string, using `str()`, in this case."
   ]
  },
  {
   "cell_type": "code",
   "execution_count": null,
   "metadata": {
    "colab": {
     "base_uri": "https://localhost:8080/",
     "height": 34
    },
    "colab_type": "code",
    "id": "mZ007L06D3X9",
    "outputId": "089419a6-58db-4771-bb8c-f287d45575c6"
   },
   "outputs": [],
   "source": [
    "x = 8\n",
    "y = 'John'\n",
    "\n",
    "print(y + ' is ' + str(x) + ' feet tall')"
   ]
  },
  {
   "cell_type": "markdown",
   "metadata": {
    "colab_type": "text",
    "id": "z_HZDIrXNDRp"
   },
   "source": [
    "Other useful functions for string manipulation include\n",
    "\n",
    " - `strip`; which, by default, removes any white space from the beginning and end of a string. However, you can also specify which characters you wish to remove.\n",
    " \n",
    " - `split`; splits a string by specified character (known as a seperator), and returns a list. By default, the separator is a space and this function splits a sentence into individual words.\n",
    " \n",
    " - `replace`; this returns a string with some specified value replaced with another specified value.\n",
    " \n",
    " - `upper`; this makes a string all uppercase.\n",
    " \n",
    " - `lower`; this makes a string all lowercase.\n",
    " \n",
    "Several examples are given below. Please make sure you understand what each of these functions does before moving on to the next section. There are many other functions available and a good resource for learning about each individual function and trying them for yourself is the [w3 schools python reference site](https://www.w3schools.com/python/python_ref_string.asp).\n",
    " \n",
    "\n"
   ]
  },
  {
   "cell_type": "code",
   "execution_count": null,
   "metadata": {
    "colab": {
     "base_uri": "https://localhost:8080/",
     "height": 439
    },
    "colab_type": "code",
    "id": "8At2rud4NDbC",
    "outputId": "adf297fd-213c-4a21-c7ec-6fe19237ad2d"
   },
   "outputs": [],
   "source": [
    "# Demonstration of the strip function\n",
    "print(\"Demonstration of strip function\\n\")\n",
    "\n",
    "\n",
    "x = '    this is a string     '\n",
    "print(x)\n",
    "print(x.strip())\n",
    "y = '...another string...'\n",
    "print(y)\n",
    "print(y.strip('.'))\n",
    "\n",
    "# -------------------------------------------------------------------\n",
    "# Demonstration of the split function\n",
    "print(\"\\nDemonstration of split function\\n\")\n",
    "\n",
    "\n",
    "x = 'This is a string'\n",
    "print(x)\n",
    "print(x.split())\n",
    "print(x.split('i'))\n",
    "\n",
    "# -------------------------------------------------------------------\n",
    "# Demonstration of the replace function\n",
    "print(\"\\nDemonstration of replace function\\n\")\n",
    "\n",
    "x = 'I am not sure that I understand how the replace function works'\n",
    "print(x)\n",
    "y = x.replace('am not sure', 'am totally sure')\n",
    "print(y)\n",
    "z = y.replace('sure', 'sure, 100% sure in fact thanks to this notebook,')\n",
    "print(z)\n",
    "\n",
    "# -------------------------------------------------------------------\n",
    "# Demonstration of the upper and lower functions\n",
    "print(\"\\nDemonstration of upper and lower functions\\n\")\n",
    "\n",
    "x = 'RaNDom CAseS'\n",
    "print(x)\n",
    "print(x.lower())\n",
    "print(x.upper())\n"
   ]
  },
  {
   "cell_type": "markdown",
   "metadata": {
    "colab_type": "text",
    "id": "F3EsEHidfDPy"
   },
   "source": [
    "## Booleans\n"
   ]
  },
  {
   "cell_type": "markdown",
   "metadata": {
    "colab_type": "text",
    "id": "tDuDsnNGP5Pg"
   },
   "source": [
    "\n",
    "A boolean in python is a variable that can be either `True` or `False`. Other representations can also be used for True or False; for example, `1` is also used for `True` and `0`  is also used for `False`. Empty object are also treated as `False` in several situations (e.g. `None` or `[]` or `{}` or `\"\"`), however these are not considered 'equal' in the sense that the equals operator (`==`) would consider them the same.\n",
    "\n",
    "Boolean and comparison operators include: \n",
    "\n",
    " - `not`: This negates the value of a variable.\n",
    " - `and`: This is a logical `and`.\n",
    " - `or`: This is a logical `or`.\n",
    " - `is`: This checks whether two variables point to the same object in memory.\n",
    " - `==`: This checks whether two variables are equal in value (Note: This shouldn't be confused for the assigment operator; `=`).\n",
    " - `!=`: This checks whether two variables are not equal in value.\n",
    " \n",
    "Boolean operators in Python are designed to be intuitive and as close to natural language as possible. The below code demonstrates how the boolean operations `and`, `or`, `==` and `!=` and `not` are used. Try changing the values of `a` and `b` to ensure you understand how these operations work."
   ]
  },
  {
   "cell_type": "code",
   "execution_count": null,
   "metadata": {
    "colab": {
     "base_uri": "https://localhost:8080/",
     "height": 153
    },
    "colab_type": "code",
    "id": "6zQU13WLXM13",
    "outputId": "74b02a4d-8614-4557-b0c4-afe3bd8b531c"
   },
   "outputs": [],
   "source": [
    "a = True\n",
    "b = False\n",
    "\n",
    "print(\"not a: \", not a)\n",
    "print(\"a and b: \", a and b)\n",
    "print(\"a or b: \", a or b)\n",
    "print(\"a==b: \", a==b)\n",
    "print(\"a!=b: \", a!=b)\n",
    "\n",
    "# Note: both c and b are treated as False, but they are not equal, see below;\n",
    "c = {}\n",
    "print(\"not c: \", not c)\n",
    "print(\"not b: \", not b)\n",
    "print(\"b==c: \", b==c)"
   ]
  },
  {
   "cell_type": "markdown",
   "metadata": {
    "colab_type": "text",
    "id": "DCn1IDvTbSLy"
   },
   "source": [
    "Other common relational expressions which give `True/False` output include `<=`, `>=`, `<` and `>` for numeric datatypes and `in` for collection datatypes (such as `list`s or `tuple`s, which we shall look at next). "
   ]
  },
  {
   "cell_type": "code",
   "execution_count": null,
   "metadata": {
    "colab": {
     "base_uri": "https://localhost:8080/",
     "height": 153
    },
    "colab_type": "code",
    "id": "7Y7iMySDcDlR",
    "outputId": "e9c638c7-52d7-41d9-9a7a-077c8ea17856"
   },
   "outputs": [],
   "source": [
    "a = 1\n",
    "b = 1.1\n",
    "\n",
    "print(\"a>b:    \", a>b)\n",
    "print(\"a<b:    \", a<b)\n",
    "print(\"a>=b:   \", a>=b)\n",
    "print(\"a<=b:   \", a<=b)\n",
    "\n",
    "c = \"Some string\"\n",
    "d = \"om\"\n",
    "print(\"c in d: \", c in d)\n",
    "print(\"d in c: \", d in c)\n",
    "\n",
    "e = 1\n",
    "f = 0.1\n",
    "g = [1,2,3]\n",
    "print(\"e in g: \", e in g)\n",
    "print(\"f in g: \", f in g)"
   ]
  },
  {
   "cell_type": "markdown",
   "metadata": {
    "colab_type": "text",
    "id": "WUqog4mjfUdB"
   },
   "source": [
    "## Tuples and lists\n",
    "\n"
   ]
  },
  {
   "cell_type": "markdown",
   "metadata": {
    "colab_type": "text",
    "id": "4KovbYK3R65M"
   },
   "source": [
    "In this section we are going to look more at Tuples and Lists.\n",
    "\n",
    " - A tuple is a collection which is ordered and ***unchangeable***. In Python tuples are written with ***round brackets***.\n",
    "\n",
    " - A list is a collection which is ordered and ***changeable***. In Python lists are written with ***square brackets***. \n",
    "\n",
    "Both tuples and lists are built-in data types, can hold elements of arbitrary datatypes and behave, in many respects, like mathematical vectors. However, for numerical vectors and arrays it is much better to use numpy arrays.\n",
    "\n",
    "Below are some examples of lists and tuples. Note again that lists and tuples can contain data of any type."
   ]
  },
  {
   "cell_type": "code",
   "execution_count": null,
   "metadata": {
    "colab": {
     "base_uri": "https://localhost:8080/",
     "height": 52
    },
    "colab_type": "code",
    "id": "73Z-hPlAU2iv",
    "outputId": "0715fe97-73f0-4c89-f150-88778953229f"
   },
   "outputs": [],
   "source": [
    "# Example tuple\n",
    "example_tuple = ('random string', 8, True)\n",
    "print(example_tuple)\n",
    "\n",
    "# Example list\n",
    "example_list = [10, 'str', False]\n",
    "print(example_list)"
   ]
  },
  {
   "cell_type": "markdown",
   "metadata": {
    "colab_type": "text",
    "id": "qH1poZMjVdkP"
   },
   "source": [
    "This means they can also be nested. I.e. we can put a list in a list, a tuple in a tuple, a list in a tuple and a tuple in a list!"
   ]
  },
  {
   "cell_type": "code",
   "execution_count": null,
   "metadata": {
    "colab": {
     "base_uri": "https://localhost:8080/",
     "height": 52
    },
    "colab_type": "code",
    "id": "bBa7bcCDVcbQ",
    "outputId": "60dd4fbd-00f0-45b6-ad1f-10b0436f529d"
   },
   "outputs": [],
   "source": [
    "TupleAndListInTuple = (example_tuple, example_list)\n",
    "TupleAndListInList = [example_tuple, example_list]\n",
    "print(TupleAndListInTuple)\n",
    "print(TupleAndListInList)\n"
   ]
  },
  {
   "cell_type": "markdown",
   "metadata": {
    "colab_type": "text",
    "id": "1NYN2MPqV7vX"
   },
   "source": [
    "### Adding to Lists and Tuples\n",
    "\n",
    "Lists and tuples can be added to using the concatenation operator, `+`, like so:"
   ]
  },
  {
   "cell_type": "code",
   "execution_count": null,
   "metadata": {
    "colab": {
     "base_uri": "https://localhost:8080/",
     "height": 52
    },
    "colab_type": "code",
    "id": "J94I-TlVWLyL",
    "outputId": "52d39451-22b0-48e9-e19d-00b0dcb2b8dc"
   },
   "outputs": [],
   "source": [
    "example_list = [1, 2, 3]\n",
    "example_list = example_list + [4]\n",
    "example_list +=  [5]\n",
    "print(example_list)\n",
    "\n",
    "example_tuple = (1, 2, 3)\n",
    "example_tuple = example_tuple + (4,)\n",
    "example_tuple +=  (5,)\n",
    "print(example_tuple)"
   ]
  },
  {
   "cell_type": "markdown",
   "metadata": {
    "colab_type": "text",
    "id": "-9U9GD42Xu7Z"
   },
   "source": [
    "### Indexing Lists and Tuples\n",
    "\n",
    "To index in python, square brackets are used. This is a common convention which applies to almost all vector-like datatypes in Python, e.g. tuples, lists, strings, numpy arrays, etc.\n",
    "\n",
    "Python uses zero indexing, which means that the first element in a list of length `n` is indexed as `0` and the last element is indexed as `n-1`. For example see the below (note that the same can also be done for tuples):"
   ]
  },
  {
   "cell_type": "code",
   "execution_count": null,
   "metadata": {
    "colab": {
     "base_uri": "https://localhost:8080/",
     "height": 70
    },
    "colab_type": "code",
    "id": "d2DMPAUNYeyt",
    "outputId": "cbde9154-ba0c-4b80-a4c9-b0cefa9ae3c7"
   },
   "outputs": [],
   "source": [
    "example_list = [2,'str',4,9,0]\n",
    "\n",
    "# Work out the length of the list\n",
    "n = len(example_list)\n",
    "\n",
    "print(example_list[0])\n",
    "print(example_list[n-1])\n",
    "print(example_list[3])\n",
    "#print(example_list[n]) # This line will fail as the highest index for a python list is n-1"
   ]
  },
  {
   "cell_type": "markdown",
   "metadata": {
    "colab_type": "text",
    "id": "cS-65Q6VZhwP"
   },
   "source": [
    "Negative numbers can also be used to index lists (and other similar datatypes). For example, the index `-1` will give the last element of the list, the index `-2` will give the second to last element of the list and so on. This is known as circular wrap-around.\n",
    "\n",
    "For a list of length `n` any index can be used between `-n` and `(n-1)` (inclusive) to access elements in the list. Indices outside of this range, however, will give an \"`index out of range`\" error."
   ]
  },
  {
   "cell_type": "code",
   "execution_count": null,
   "metadata": {
    "colab": {
     "base_uri": "https://localhost:8080/",
     "height": 87
    },
    "colab_type": "code",
    "id": "KE9ZTm2PZhFc",
    "outputId": "2c6d7ccf-738d-4eea-c09d-48da78d97c97"
   },
   "outputs": [],
   "source": [
    "# Examples of circular wrap-around\n",
    "print(example_list)\n",
    "print(example_list[-2])\n",
    "print(example_list[-4])\n",
    "print(example_list[-n])\n",
    "\n",
    "# Examples of indices which will fail/give errors\n",
    "#print(example_list[n])\n",
    "#print(example_list[-n-1])\n",
    "#print(example_list[20*n + 2]) \n",
    "#print(example_list[-20*n - 2])"
   ]
  },
  {
   "cell_type": "markdown",
   "metadata": {
    "colab_type": "text",
    "id": "WYFbLZUyc1gL"
   },
   "source": [
    "Note that nested lists and tuples support nested indexing but this involve multiple sets of square brackets (for example see below).\n",
    "\n",
    "You may be more familiar with indexing of the form `example_list[a,b]` (i.e. only one set of square brackets); this syntax does exist in Python but unfortunately not for lists. In fact, this syntax is used heavily by numpy arrays."
   ]
  },
  {
   "cell_type": "code",
   "execution_count": null,
   "metadata": {
    "colab": {
     "base_uri": "https://localhost:8080/",
     "height": 70
    },
    "colab_type": "code",
    "id": "K0qk8Dagc1xp",
    "outputId": "b985a0df-4583-4f46-d011-b52d3cec24ca"
   },
   "outputs": [],
   "source": [
    "exampleNested = [('str', 20, 'str2'), [False, 8, 9.5]]\n",
    "print(exampleNested[0][1])\n",
    "print(exampleNested[1][0])\n",
    "print(exampleNested[1][-1])"
   ]
  },
  {
   "cell_type": "markdown",
   "metadata": {
    "colab_type": "text",
    "id": "3_lWPifdeQpX"
   },
   "source": [
    "### Slicing Tuples and Lists\n",
    "\n",
    "A range of index values can be specified to extract values from a list using a colon, `:`. This is done in a very similar manor to languages such as Matlab and C. For example:"
   ]
  },
  {
   "cell_type": "code",
   "execution_count": null,
   "metadata": {
    "colab": {
     "base_uri": "https://localhost:8080/",
     "height": 34
    },
    "colab_type": "code",
    "id": "L8RgrkTZfcHY",
    "outputId": "09774a56-8a54-4104-e2d9-e8ef4b5f2221"
   },
   "outputs": [],
   "source": [
    "example_list = [1,2,3,4,5]\n",
    "print(example_list[0:3])"
   ]
  },
  {
   "cell_type": "markdown",
   "metadata": {
    "colab_type": "text",
    "id": "icFmhl-VftwH"
   },
   "source": [
    "> **Warning:** Often, in other languages such as `Matlab` the syntax `0:3` represents the range `[0,1,2,3]`; however, in python `0:3` represents only `[0,1,2]`. In other words the syntax `k:n` includes `[k,k+1,...n-1]` but does not include `n` itself! This is common to all data types in python and should always be remembered when indexing anything in Python!"
   ]
  },
  {
   "cell_type": "markdown",
   "metadata": {
    "colab_type": "text",
    "id": "2s9zX3IP8zaf"
   },
   "source": [
    "When indexing in python you can leave the start and end values implicit. This will give the same effect as starting from the beginning of the list and ending at the end of the list. For example:\n"
   ]
  },
  {
   "cell_type": "code",
   "execution_count": null,
   "metadata": {
    "colab": {
     "base_uri": "https://localhost:8080/",
     "height": 102
    },
    "colab_type": "code",
    "id": "0KyOvaq28yqj",
    "outputId": "67bd3929-ae8e-470a-be10-0dab9daeed43"
   },
   "outputs": [],
   "source": [
    "example_list = [1,2,3,4,5]\n",
    "\n",
    "# The below two lines will give the same\n",
    "print(example_list[0:3])\n",
    "print(example_list[:3])\n",
    "\n",
    "# The below two lines will also give the same\n",
    "print(example_list[2:5])\n",
    "print(example_list[2:])\n",
    "\n",
    "# This will print the whole list\n",
    "print(example_list[:])"
   ]
  },
  {
   "cell_type": "markdown",
   "metadata": {
    "colab_type": "text",
    "id": "26j0BjnL9jtb"
   },
   "source": [
    "You can also indicate a step size when indexing by using the following syntax:"
   ]
  },
  {
   "cell_type": "code",
   "execution_count": null,
   "metadata": {
    "colab": {
     "base_uri": "https://localhost:8080/",
     "height": 51
    },
    "colab_type": "code",
    "id": "Kk0froBX8yvc",
    "outputId": "41fac46c-7abc-487a-e8e4-12ceeaddcd52"
   },
   "outputs": [],
   "source": [
    "# Print every second element between the 0th and 5th elements\n",
    "print(example_list[0:5:2])\n",
    "print(example_list[::2])"
   ]
  },
  {
   "cell_type": "markdown",
   "metadata": {
    "colab_type": "text",
    "id": "tWBOTl2C-AGo"
   },
   "source": [
    "And you can run backwards through the list by using negative integers as the step size. For example:"
   ]
  },
  {
   "cell_type": "code",
   "execution_count": null,
   "metadata": {
    "colab": {
     "base_uri": "https://localhost:8080/",
     "height": 34
    },
    "colab_type": "code",
    "id": "y5Qs1RYs8EQ-",
    "outputId": "c12d9b83-2b80-4ae3-8bb3-72334cc32c30"
   },
   "outputs": [],
   "source": [
    "# Print the list backwards\n",
    "print(example_list[::-1])"
   ]
  },
  {
   "cell_type": "markdown",
   "metadata": {
    "colab_type": "text",
    "id": "j9Vd6Bjs-6cl"
   },
   "source": [
    "### Operations on Lists and Tuples\n",
    "\n",
    "Other operations are also available for lists and tuples. Most notably, the `*` symbol can be used to replicate a list or tuple like so:"
   ]
  },
  {
   "cell_type": "code",
   "execution_count": null,
   "metadata": {
    "colab": {
     "base_uri": "https://localhost:8080/",
     "height": 51
    },
    "colab_type": "code",
    "id": "FL0i5tvk_Vhf",
    "outputId": "79fd7b3f-60e7-43f7-84c0-8264d669054c"
   },
   "outputs": [],
   "source": [
    "example_list = [1,2,3,4]\n",
    "print(example_list*2)\n",
    "\n",
    "example_tuple = (1,2,3,4)\n",
    "print(example_tuple*2)"
   ]
  },
  {
   "cell_type": "markdown",
   "metadata": {
    "colab_type": "text",
    "id": "cyQV4DAd_1fy"
   },
   "source": [
    "Other notable operations for lists include:\n",
    "\n",
    " - `insert`: This function adds an element to the list at a specified position.\n",
    " - `pop`: This function removes the element in the list at the specified position.\n",
    " - `remove`: This function removes the item with the specified value from the list.\n",
    " - `reverse`: This function reverses the order of the list.\n",
    " - `sort`: This function sorts the list.\n",
    " \n",
    "A few examples of these functions are given below. Try changing and editing the below code to check your understanding! Again, this is by no means a comprehensive list; more information can be found in the [Python API](https://docs.python.org/3/tutorial/datastructures.html) or in the [W3 schools documentation](https://www.w3schools.com/python/python_lists.asp)."
   ]
  },
  {
   "cell_type": "code",
   "execution_count": null,
   "metadata": {
    "colab": {
     "base_uri": "https://localhost:8080/",
     "height": 119
    },
    "colab_type": "code",
    "id": "U3k5urnk_z4w",
    "outputId": "f2bdc1c3-504f-4d4a-a8f9-3a816803be3f"
   },
   "outputs": [],
   "source": [
    "# Here is an example list\n",
    "example_list = [1,2,3,4,5]\n",
    "print(example_list)\n",
    "\n",
    "# We will now insert the value 3 at index 2\n",
    "example_list.insert(2,3)\n",
    "print(example_list)\n",
    "\n",
    "# We will now remove the item in the 4th position of the list\n",
    "example_list.pop(4)\n",
    "print(example_list)\n",
    "\n",
    "# We will now remove an element with the value 3 from the list\n",
    "example_list.remove(3)\n",
    "print(example_list)\n",
    "\n",
    "# We will now reverse the list\n",
    "example_list.reverse()\n",
    "print(example_list)\n",
    "\n",
    "# We will now sort the list\n",
    "example_list.sort()\n",
    "print(example_list)"
   ]
  },
  {
   "cell_type": "markdown",
   "metadata": {
    "colab_type": "text",
    "id": "Kx9-pnIMCGYZ"
   },
   "source": [
    "Not as many operations are available for tuples as tuples are immutable (not meant to change in value). Two available operations are:\n",
    "\n",
    " - `count`: This function returns the number of times a specified value occurs in the tuple.\n",
    " - `index`: This function searches the tuple for a specified value and returns the position of where it was found.\n",
    " \n",
    "Examples of these are given below. For more information on tuples please visit the [Python API](https://docs.python.org/3/tutorial/datastructures.html) or the [W3 schools documentation](https://www.w3schools.com/python/python_tuples.asp)."
   ]
  },
  {
   "cell_type": "code",
   "execution_count": null,
   "metadata": {
    "colab": {
     "base_uri": "https://localhost:8080/",
     "height": 51
    },
    "colab_type": "code",
    "id": "0u_S29_BDIm2",
    "outputId": "48589dd9-3a89-4307-a9b1-631a0ee707e2"
   },
   "outputs": [],
   "source": [
    "example_tuple = (1,2,3,3,4,5,6)\n",
    "\n",
    "# Count how many times the value 3 occurs\n",
    "print(example_tuple.count(3))\n",
    "\n",
    "# Find the number 2 in the tuple and return it's index\n",
    "# (Remember indexing starts at 0 in Python!)\n",
    "print(example_tuple.index(2))"
   ]
  },
  {
   "cell_type": "markdown",
   "metadata": {
    "colab_type": "text",
    "id": "WRqFU96xfPWV"
   },
   "source": [
    "## Sets and Dictionarys"
   ]
  },
  {
   "cell_type": "markdown",
   "metadata": {
    "colab_type": "text",
    "id": "azhSRPe6Dbov"
   },
   "source": [
    "In this section, we are going to look in more detail at Sets and Dictionarys.\n",
    "\n",
    " - A set is a collection which is **unordered**, **changeable** and **unindexed**. In Python sets are written with **curly** brackets.\n",
    " - A dictionary is a collection which is **unordered**, **changeable** and **indexed**. In Python dictionarys are also written with **curly** brackets but also with keys and values.\n",
    "\n",
    "Like tuples and lists, both sets and dictionarys are built-in python types and can hold elements of arbitrary data types. However, unlike tuples and lists they do not behave like vectors as they are unordered. In other languages, such as Java, you may have heard of dictionarys referred to as `hashmaps`.\n",
    "\n",
    "Below are some examples of sets and dictionarys."
   ]
  },
  {
   "cell_type": "code",
   "execution_count": null,
   "metadata": {
    "colab": {
     "base_uri": "https://localhost:8080/",
     "height": 68
    },
    "colab_type": "code",
    "id": "tvFLsalZFN6g",
    "outputId": "04a4c519-b0d6-41fb-c7bf-d638cae06f83"
   },
   "outputs": [],
   "source": [
    "example_set = {1,'str',3}\n",
    "print(example_set)\n",
    "\n",
    "example_dict = {'A':1, 'B':'str'}\n",
    "print(example_dict)\n",
    "\n",
    "# We can also create dictionaries using the dict function if using strings for keys\n",
    "example_dict = dict(A=1, B='str')\n",
    "print(example_dict)"
   ]
  },
  {
   "cell_type": "markdown",
   "metadata": {
    "colab_type": "text",
    "id": "4pBiwlfPW719"
   },
   "source": [
    "### Adding elements to and retreiving elements from Dictionarys\n",
    "\n",
    "Elements can be added to dictionarys as `key`s and `value`s. For example; in the first line below the `key` is `a` and the `value` is `b`. Note that a key does not have to be a string; integers and floats work just as well. Values can be of any data type."
   ]
  },
  {
   "cell_type": "code",
   "execution_count": null,
   "metadata": {
    "colab": {},
    "colab_type": "code",
    "id": "RX7V3omSXlxv"
   },
   "outputs": [],
   "source": [
    "# Here we assign value 'b' to key 'a'\n",
    "example_dict['a'] = 'b'\n",
    "\n",
    "# Here we assign value 2 to key 10\n",
    "example_dict[10] = 2\n",
    "\n",
    "# Here we assign value [2,1] to key 1.1\n",
    "example_dict[1.1] = [2,1]\n",
    "\n",
    "print(example_dict)"
   ]
  },
  {
   "cell_type": "markdown",
   "metadata": {
    "colab_type": "text",
    "id": "OX4P3EZ-aGAa"
   },
   "source": [
    "We can then retreive `value`s from the dictionary using the `key`s we stored them under. This can be done with either square brackets or the built-in `get` function. For example:"
   ]
  },
  {
   "cell_type": "code",
   "execution_count": null,
   "metadata": {
    "colab": {
     "base_uri": "https://localhost:8080/",
     "height": 85
    },
    "colab_type": "code",
    "id": "bSHqY9VMaQcU",
    "outputId": "e7b2c8d0-68f9-49ce-d90b-1fb68cbd2e08"
   },
   "outputs": [],
   "source": [
    "# Using square brackets\n",
    "print(example_dict[10])\n",
    "print(example_dict['a'])\n",
    "\n",
    "# Using the `get` function\n",
    "print(example_dict.get(10))\n",
    "print(example_dict.get('a'))"
   ]
  },
  {
   "cell_type": "markdown",
   "metadata": {
    "colab_type": "text",
    "id": "qkVJDyyurwVt"
   },
   "source": [
    "### Removing elements from a dictionary\n",
    "\n",
    "Elements can be removed from a dictionary using the `pop` and `del` methods. For example:"
   ]
  },
  {
   "cell_type": "code",
   "execution_count": null,
   "metadata": {
    "colab": {
     "base_uri": "https://localhost:8080/",
     "height": 68
    },
    "colab_type": "code",
    "id": "UejvUazbr9bh",
    "outputId": "939034da-e089-47d1-b004-914a86372c5c"
   },
   "outputs": [],
   "source": [
    "# Example dictionary\n",
    "example_dict = {'A':1, 'B':'str', 'C':2}\n",
    "print(example_dict)\n",
    "\n",
    "# Remove element 'A'\n",
    "example_dict.pop('A')\n",
    "print(example_dict)\n",
    "\n",
    "# Remove element C\n",
    "del example_dict['C']\n",
    "print(example_dict)"
   ]
  },
  {
   "cell_type": "markdown",
   "metadata": {
    "colab_type": "text",
    "id": "cHH9qcDyts2z"
   },
   "source": [
    "### Operations on Dictionarys\n",
    "\n",
    "Other operations are also available for dictionarys. Some of the most useful of these are;\n",
    "\n",
    " - `keys`: This function returns a list containing the dictionary's keys.\n",
    " - `values`: This function returns a list of all the values in the dictionary.\n",
    " - `items`: This function returns a list containing a tuple for each (key, value) pair.\n",
    " \n",
    "Examples of these functions are given below. For full documentation and details on more functions see the [Python API](https://docs.python.org/3/tutorial/datastructures.html) and [W3 schools Python documentation](https://www.w3schools.com/python/python_dictionaries.asp)."
   ]
  },
  {
   "cell_type": "code",
   "execution_count": null,
   "metadata": {
    "colab": {
     "base_uri": "https://localhost:8080/",
     "height": 68
    },
    "colab_type": "code",
    "id": "7UYdZWp4xQqE",
    "outputId": "15ace6d1-b0a7-4612-a981-1680efec7118"
   },
   "outputs": [],
   "source": [
    "example_dict = {'A':1, 'B':'str', 'C':2}\n",
    "print(example_dict.keys())\n",
    "print(example_dict.values())\n",
    "print(example_dict.items())"
   ]
  },
  {
   "cell_type": "markdown",
   "metadata": {
    "colab_type": "text",
    "id": "O4wxz88ea_kR"
   },
   "source": [
    "### Adding elements to a set"
   ]
  },
  {
   "cell_type": "markdown",
   "metadata": {
    "colab_type": "text",
    "id": "JLSpyJxnbH1V"
   },
   "source": [
    "Elements can be added to a set using the `add` function. For example, see the below code. \n",
    "\n",
    "Note that a `set` is designed to mimic the idea of a `set` in mathematics and, therefore, `set`s do not allow for duplicate entries. An entry is either in or not in a set; it cannot be \"in\" a set twice.\n",
    "\n",
    "Multiple elements can also be added to a set at once using the `update` method."
   ]
  },
  {
   "cell_type": "code",
   "execution_count": null,
   "metadata": {
    "colab": {
     "base_uri": "https://localhost:8080/",
     "height": 85
    },
    "colab_type": "code",
    "id": "5614cIK5oMK4",
    "outputId": "1ebca4ef-5387-42df-d66d-2eb83da26d99"
   },
   "outputs": [],
   "source": [
    "example_set = {1,'str',3}\n",
    "print(example_set)\n",
    "\n",
    "# Add an element\n",
    "example_set.add(8)\n",
    "print(example_set)\n",
    "\n",
    "# Add another element; note this element is already in the set and therefore the\n",
    "# set is left unchanged\n",
    "example_set.add(1)\n",
    "print(example_set)\n",
    "\n",
    "# Add two elements to the set\n",
    "example_set.update([10,'blah'])\n",
    "print(example_set)"
   ]
  },
  {
   "cell_type": "markdown",
   "metadata": {
    "colab_type": "text",
    "id": "oRrpJm7dq7Ce"
   },
   "source": [
    "However, there is no notion of indexing for Python `set`s as sets are **unordered**. This means that individual elements cannot be accessed in the same manor as in dictionarys, lists and tuples. We can check if an element is in a set, however, using the `in` keyword."
   ]
  },
  {
   "cell_type": "code",
   "execution_count": null,
   "metadata": {
    "colab": {
     "base_uri": "https://localhost:8080/",
     "height": 51
    },
    "colab_type": "code",
    "id": "TbMPFPOyrqGx",
    "outputId": "ebb50dd2-3adc-450f-c039-bcd808010f9f"
   },
   "outputs": [],
   "source": [
    "print(1 in example_set)\n",
    "print(2 in example_set)"
   ]
  },
  {
   "cell_type": "markdown",
   "metadata": {
    "colab_type": "text",
    "id": "0oBb-_ZZsgVe"
   },
   "source": [
    "### Removing elements from a set\n",
    "\n",
    "Elements can be removed from a set using the `remove` function. Note: the `remove` function will errror if the requested value is not in the set."
   ]
  },
  {
   "cell_type": "code",
   "execution_count": null,
   "metadata": {
    "colab": {
     "base_uri": "https://localhost:8080/",
     "height": 34
    },
    "colab_type": "code",
    "id": "MBVU0vzUschT",
    "outputId": "d617d71b-fad7-4f22-ce1c-b71055e7bc9b"
   },
   "outputs": [],
   "source": [
    "example_set.remove(1)\n",
    "print(example_set)"
   ]
  },
  {
   "cell_type": "markdown",
   "metadata": {
    "colab_type": "text",
    "id": "0wCumVCcuBTu"
   },
   "source": [
    "### Operations on Sets\n",
    "\n",
    "Other operations are also available for sets, many of which are designed to mimic mathematic functions. For example:\n",
    "\n",
    " - `difference`:\tThis function returns a set containing the difference between two or more sets.\n",
    " - `intersection`:\tThis function returns a set which is the intersection of two other sets.\n",
    " - `issubset`: This function returns `True` if the first set input contains the second set input and `False` otherwise.\n",
    " - `issuperset`: This function returns `True` if the first set input is contained within the second set input and `False` otherwise.\n",
    " - `union`: This function returns a set containing the union of input sets.\n",
    " \n",
    "Examples of these are given below. For full documentation and details on more functions see the [Python API](https://docs.python.org/3/tutorial/datastructures.html) and [W3 schools Python documentation](https://www.w3schools.com/python/python_sets.asp)."
   ]
  },
  {
   "cell_type": "code",
   "execution_count": null,
   "metadata": {
    "colab": {
     "base_uri": "https://localhost:8080/",
     "height": 306
    },
    "colab_type": "code",
    "id": "MxS-ELL0vN6f",
    "outputId": "0a286fca-4319-4a38-b221-029d61b44e42"
   },
   "outputs": [],
   "source": [
    "print('Sets')\n",
    "set1 = {1,2,3,4}\n",
    "set2 = {2,4,5,6}\n",
    "print(set1)\n",
    "print(set2)\n",
    "\n",
    "# Difference\n",
    "print('\\nSet Differences')\n",
    "print(set1.difference(set2))\n",
    "print(set2.difference(set1))\n",
    "\n",
    "# Intersection\n",
    "print('\\nIntersection')\n",
    "print(set1.intersection(set2))\n",
    "\n",
    "# Is subset or superset\n",
    "print('\\nSubset/Superset')\n",
    "print(set1.issubset(set2))\n",
    "print(set1.issuperset({1,2}))\n",
    "\n",
    "# Union\n",
    "print('\\nUnion')\n",
    "print(set1.union(set2))"
   ]
  },
  {
   "cell_type": "markdown",
   "metadata": {
    "colab_type": "text",
    "id": "KjnfexbWe9DG"
   },
   "source": [
    "## If statements"
   ]
  },
  {
   "cell_type": "markdown",
   "metadata": {
    "colab_type": "text",
    "id": "9gEUdJrYeAhw"
   },
   "source": [
    "An `if` statement allows you to run a block of code if and only if a boolean expression is `True`. Take the example in the following block, for instance. In this example, \"Positive\" is printed if the variable `a` is greater than zero. \n",
    "\n",
    "If the variable `a` is not greater than zero, the code will then move onto the next statement; the `elif` (else if). This checks if `a` is less than zero and if `a` is less than zero `Negative` will be printed. This block of code is run **only if the first block of did not run and the `elif` statement is `True`**.\n",
    "\n",
    "Finally, if neither of the previous statements were `True` the `else` statement is executed. In this case, `a` would have to be neither negative or positive and would therefore be zero. This block of code is run **only if all of the previous blocks of code did not run**.\n",
    "\n",
    "\n",
    " > **Warning**: Indentation is crucial for the `if` statement in python. You must indent blocks of code within if statements as this is how the blocks of code are delineated in python.\n",
    "\n",
    " > **Warning:** Make sure to remember the colon on the end of the `if`, `elif` and `else` statements! Without this Python, will throw an error. This error often causes many a headache for new Python users!"
   ]
  },
  {
   "cell_type": "code",
   "execution_count": null,
   "metadata": {
    "colab": {
     "base_uri": "https://localhost:8080/",
     "height": 51
    },
    "colab_type": "code",
    "id": "3s_9ehOYeGTF",
    "outputId": "9036f924-7d36-49bd-9245-8062d1b5eb72"
   },
   "outputs": [],
   "source": [
    "# Generate a random uniform variable\n",
    "# Don't worry if you don't understand the two below lines; all you need know\n",
    "# is that a is a random real number between -1 and 1\n",
    "import random\n",
    "a = random.uniform(-1, 1)\n",
    "print(a)\n",
    "\n",
    "# If a is greater than zero print positive\n",
    "if a>0:\n",
    "  \n",
    "    print('Positive')\n",
    "    \n",
    "# Else If a is less than zero print negative\n",
    "elif a<0:\n",
    "  \n",
    "    print('Negative')\n",
    "\n",
    "# Else print \"zero\"\n",
    "else:\n",
    "    print('Zero')\n"
   ]
  },
  {
   "cell_type": "markdown",
   "metadata": {
    "colab_type": "text",
    "id": "5l7FaGcojc5V"
   },
   "source": [
    "As with other languages there can be many `elif` statements or none at all. For example;"
   ]
  },
  {
   "cell_type": "code",
   "execution_count": null,
   "metadata": {
    "colab": {
     "base_uri": "https://localhost:8080/",
     "height": 68
    },
    "colab_type": "code",
    "id": "xSzO3PixjkHW",
    "outputId": "f56212e2-4dd5-48b1-955c-3abdd9d34ea8"
   },
   "outputs": [],
   "source": [
    "a = random.uniform(-1, 1)\n",
    "print(a)\n",
    "  \n",
    "# ------------------------------------------------------------------------------\n",
    "# If a is greater than zero print positive\n",
    "if a>0:\n",
    "  \n",
    "    print('Positive')\n",
    "    \n",
    "# ------------------------------------------------------------------------------\n",
    "# If a is greater than 0.5 print Greater than 0.5  \n",
    "if a>0.5:\n",
    "  \n",
    "    print('Greater than 0.5')\n",
    "    \n",
    "# Else If a is greater than zero print Between 0 and 0.5\n",
    "elif a>0:\n",
    "  \n",
    "    print('Between 0 and 0.5')\n",
    "\n",
    "# Else If a is greater than -0.5 print Between -0.5 and 0\n",
    "elif a>-0.5:\n",
    "  \n",
    "    print('Between -0.5 and 0')\n",
    "\n",
    "# Else print 'Between -1 and -0.5'\n",
    "else:\n",
    "    print('Between -1 and -0.5')"
   ]
  },
  {
   "cell_type": "markdown",
   "metadata": {
    "colab_type": "text",
    "id": "sqRGVuaee19R"
   },
   "source": [
    "## For loops\n"
   ]
  },
  {
   "cell_type": "markdown",
   "metadata": {
    "colab_type": "text",
    "id": "YahmN-LbeP1b"
   },
   "source": [
    "A `for` loop iterates through a sequence (a `list`, a `set`, a `tuple`, etc), and evaluates a block code for each item in the sequence. For example;"
   ]
  },
  {
   "cell_type": "code",
   "execution_count": null,
   "metadata": {
    "colab": {
     "base_uri": "https://localhost:8080/",
     "height": 102
    },
    "colab_type": "code",
    "id": "4ha2v8cunQQV",
    "outputId": "013f8e42-2d3b-4168-a6b8-548e51dd6de7"
   },
   "outputs": [],
   "source": [
    "for x in ('a', 2, 'c', '4', 'e'):\n",
    "    print(x)"
   ]
  },
  {
   "cell_type": "markdown",
   "metadata": {
    "colab_type": "text",
    "id": "7Tw8vuyinj-w"
   },
   "source": [
    "To loop through a numerical range then use the range function:"
   ]
  },
  {
   "cell_type": "code",
   "execution_count": null,
   "metadata": {
    "colab": {
     "base_uri": "https://localhost:8080/",
     "height": 119
    },
    "colab_type": "code",
    "id": "zlnBIbJWnrMJ",
    "outputId": "608c5e34-eb7b-4319-d4f6-fbd2845273a9"
   },
   "outputs": [],
   "source": [
    "for x in range(-1, 5):\n",
    "    print(x)"
   ]
  },
  {
   "cell_type": "markdown",
   "metadata": {
    "colab_type": "text",
    "id": "6RByJIS4n91r"
   },
   "source": [
    " > **Note:** The maximum value in a python `range` is one less than the value specified.  Also note, `range` actually returns an object that can be iterated over, not a list. A list of numbers can be obtained using `list(range(-1, 5))`.\n",
    "\n",
    "Another useful feature of python which may be useful when writing for loops is that multiple variables can be assigned from a tuple or list:"
   ]
  },
  {
   "cell_type": "code",
   "execution_count": null,
   "metadata": {
    "colab": {
     "base_uri": "https://localhost:8080/",
     "height": 51
    },
    "colab_type": "code",
    "id": "NxfFtHY1oWgt",
    "outputId": "422edf36-b58c-46da-fe8d-6cad19da069c"
   },
   "outputs": [],
   "source": [
    "x, y = [10, 7.2]\n",
    "print(x)\n",
    "print(y)"
   ]
  },
  {
   "cell_type": "markdown",
   "metadata": {
    "colab_type": "text",
    "id": "u2vXALfNaeQD"
   },
   "source": [
    " > **Note:** Indentation is very important for loops. Whilst in other languages such as `Matlab` there are keywords signifying when a loop ends (such as `end`); in Python the only way to tell which code is and is not inside a loop is through indentation. In short, make sure your indentation is present and consistent! Also, don't forget the colon after the `for` expression!"
   ]
  },
  {
   "cell_type": "markdown",
   "metadata": {
    "colab_type": "text",
    "id": "rCn9aqAteSfR"
   },
   "source": [
    "## While loops"
   ]
  },
  {
   "cell_type": "markdown",
   "metadata": {
    "colab_type": "text",
    "id": "gSqcxT63eVVt"
   },
   "source": [
    "A while loop repeatedly runs a block of code so long as a given Boolean statement is `True`. For example, in the below, the block of code is run while the statement `n<100` is `True`."
   ]
  },
  {
   "cell_type": "code",
   "execution_count": null,
   "metadata": {
    "colab": {
     "base_uri": "https://localhost:8080/",
     "height": 85
    },
    "colab_type": "code",
    "id": "TrHRWrvfaZcv",
    "outputId": "5dd617c8-e48c-40de-b61f-47670b18e160"
   },
   "outputs": [],
   "source": [
    "# Set n = 0\n",
    "n = 0\n",
    "\n",
    "# Run this code while n is less than 100\n",
    "while n<100:\n",
    "  \n",
    "    print(n)\n",
    "    n = n**2 - 2*n + 3"
   ]
  },
  {
   "cell_type": "markdown",
   "metadata": {
    "colab_type": "text",
    "id": "VmUQ2J0vcfGA"
   },
   "source": [
    " > **Note:** Unlike in other languages such as Java; in Python, there is no `do ... while` construct.\n",
    "\n",
    " > **Note:** As with the `for` loop, indentation is extremely important. Don't forget your indentation or the colon after the `while` expression!!"
   ]
  },
  {
   "cell_type": "markdown",
   "metadata": {
    "colab_type": "text",
    "id": "38gbFtscZZM9"
   },
   "source": [
    "## continue, break and pass statements"
   ]
  },
  {
   "cell_type": "markdown",
   "metadata": {
    "colab_type": "text",
    "id": "Qrc5tq8ncpmz"
   },
   "source": [
    "Three statements which are often useful to know in Python when writing `for` loops or `while` loops are the `continue`, `break` and `pass` statements. \n",
    "\n",
    "When used in a loop, the `continue` statement returns the control to the beginning of the loop. In other words, it skips the rest of the code block for the current run of the loop and goes straight to the next run of the loop. For example see the below:"
   ]
  },
  {
   "cell_type": "code",
   "execution_count": null,
   "metadata": {
    "colab": {
     "base_uri": "https://localhost:8080/",
     "height": 136
    },
    "colab_type": "code",
    "id": "9Bw6RboDdX0B",
    "outputId": "011be59a-c2e7-4a29-bc50-1d13c3b97159"
   },
   "outputs": [],
   "source": [
    "for i in range(1,10):\n",
    "  \n",
    "    # If i is less than 2, skip the print statement\n",
    "    if i < 3:\n",
    "        continue\n",
    "\n",
    "    print(i)"
   ]
  },
  {
   "cell_type": "markdown",
   "metadata": {
    "colab_type": "text",
    "id": "gBrsFmIZdyEH"
   },
   "source": [
    "The `pass` statement effectively is a null operation; nothing happens when it executes. It is useful when you are writing code and need something as a placeholder for code that is yet to be written. For example;"
   ]
  },
  {
   "cell_type": "code",
   "execution_count": null,
   "metadata": {
    "colab": {
     "base_uri": "https://localhost:8080/",
     "height": 170
    },
    "colab_type": "code",
    "id": "D71OO7MYeCLG",
    "outputId": "cd8e27c0-37f2-4743-d9bf-ab3c95067504"
   },
   "outputs": [],
   "source": [
    "for i in range(1,10):\n",
    "\n",
    "    # We may want to implement something for i < 3 but we have\n",
    "    # not yet gotten around to it. We can include a pass\n",
    "    # statement in this situation!\n",
    "    if i < 3:\n",
    "        pass\n",
    "\n",
    "    print(i)"
   ]
  },
  {
   "cell_type": "markdown",
   "metadata": {
    "colab_type": "text",
    "id": "dmw6XBF2eMnv"
   },
   "source": [
    "The `break` statement ends the loop prematurely. This can be useful when trying to catch bugs or when there are many conditions in which you may like to end a loop. For example;"
   ]
  },
  {
   "cell_type": "code",
   "execution_count": null,
   "metadata": {
    "colab": {
     "base_uri": "https://localhost:8080/",
     "height": 51
    },
    "colab_type": "code",
    "id": "XkKzCi03edzW",
    "outputId": "ce2a431a-8de9-421f-bd4b-6d4d0f58aef9"
   },
   "outputs": [],
   "source": [
    "for i in range(1,10):\n",
    "\n",
    "    # We may want to end the code if i==3, perhaps we\n",
    "    # have noticed there is a bug when i==3 and want to \n",
    "    # investigate it further\n",
    "    if i == 3:\n",
    "        break\n",
    "\n",
    "    print(i)"
   ]
  },
  {
   "cell_type": "markdown",
   "metadata": {
    "colab_type": "text",
    "id": "GAW0iQoQiIwh"
   },
   "source": [
    "## List comprehensions\n",
    "\n"
   ]
  },
  {
   "cell_type": "markdown",
   "metadata": {
    "colab_type": "text",
    "id": "BwF852Ypeaec"
   },
   "source": [
    "Some useful syntax for building a list using a `for` loop but all in one line is known as a List comprehension.  The syntax of a list comprehension is pretty similar to the `for` loop syntax and is extremely popular in Python. Try the below examples and see if you can understand how they work:"
   ]
  },
  {
   "cell_type": "code",
   "execution_count": null,
   "metadata": {
    "colab": {
     "base_uri": "https://localhost:8080/",
     "height": 51
    },
    "colab_type": "code",
    "id": "5pOXKqURhZGw",
    "outputId": "dec0c888-9688-4a15-999c-8849885b7b9b"
   },
   "outputs": [],
   "source": [
    "# xrange contains the integers 0 to 6 inclusive\n",
    "xrange = range(6)\n",
    "\n",
    "# Add 2 to all elements of the xrange\n",
    "newlist1 = [ x+2 for x in xrange ]\n",
    "print(newlist1)\n",
    "\n",
    "# Square all the elements of xrange apart from 4\n",
    "# (4 will not be included in the final result)\n",
    "newlist2 = [ x**2 for x in xrange if x!=4 ]\n",
    "print(newlist2)"
   ]
  },
  {
   "cell_type": "markdown",
   "metadata": {},
   "source": [
    "## Getting help"
   ]
  },
  {
   "cell_type": "markdown",
   "metadata": {},
   "source": [
    "There is a lot to remember when first learning Python. To get more help see the [Python API](https://docs.python.org/3/library/). Another useful link is the [W3 schools series on Python](https://www.w3schools.com/python/) which is very good, especially for new users. Another way to get help if you are ever unsure what a function is doing is to use the`help` function in the Python terminal like so:"
   ]
  },
  {
   "cell_type": "code",
   "execution_count": null,
   "metadata": {},
   "outputs": [],
   "source": [
    "help(print)"
   ]
  },
  {
   "cell_type": "markdown",
   "metadata": {
    "colab_type": "text",
    "id": "wst6iV_wmixh"
   },
   "source": [
    "# Exercises"
   ]
  },
  {
   "cell_type": "markdown",
   "metadata": {},
   "source": [
    "**Question 1:**  In the below code block there are 12 strings; the `startString`, ten arbitrary looking strings and the `endString`. The aim of this exercise is to obtain the `endString` using only:\n",
    "   - `startString`\n",
    "   - `string1,... string10`\n",
    "   - the `replace` function\n",
    "   \n",
    "A solution to this problem exists in 5 steps. We have given you the first step to help get you started! \n",
    "\n",
    "*Hint: You may not need all 10 of the arbitrary looking strings.*"
   ]
  },
  {
   "cell_type": "code",
   "execution_count": null,
   "metadata": {},
   "outputs": [],
   "source": [
    "# String to start from\n",
    "startString = 'Thas as te arang we want!'\n",
    "print('Start:  ', startString)\n",
    "\n",
    "# You can use these strings\n",
    "string1 = 'a'\n",
    "string2 = 'st'\n",
    "string3 = 'he a'\n",
    "string4 = ' ge'\n",
    "string5 = 'stri'\n",
    "string6 = 'sts'\n",
    "string7 = 'is'\n",
    "string8 = 'ara'\n",
    "string9 = 'gen'\n",
    "string10 = 'e a'\n",
    "\n",
    "# Step 1\n",
    "step1 = startString.replace(string1,string2)\n",
    "print('Step 1: ',step1)\n",
    "\n",
    "# Step 2\n",
    "step2 = step1.replace(string_ , string_) # Fill in the underscores\n",
    "print('Step 2: ', step2)\n",
    "\n",
    "# ... Repeat this process 3 more times\n",
    "\n",
    "print('...')\n",
    "\n",
    "\n",
    "# You should end up with this string\n",
    "endString = 'This is the string we want!'\n",
    "print('End:    ', endString)"
   ]
  },
  {
   "cell_type": "markdown",
   "metadata": {},
   "source": [
    "Once you have an answer, check that your final string is the correct string using an appropriate boolean operator!"
   ]
  },
  {
   "cell_type": "markdown",
   "metadata": {},
   "source": [
    "**Question 2:** Given the two strings in the code block below, use a `while` loop and the `split` function to make a new string which contains:\n",
    " - the 1st word from the 1st string\n",
    " - the 1st word from the 2nd string\n",
    " - the 2nd word from the 1st string\n",
    " - the 2nd word from the 2nd string\n",
    " - the 3rd word from the 1st string\n",
    " - ... and so on\n",
    " \n",
    "Each word must be seperated from the last with a space."
   ]
  },
  {
   "cell_type": "code",
   "execution_count": null,
   "metadata": {},
   "outputs": [],
   "source": [
    "firstString = 'This seems have broken two strings. thats'\n",
    "secondString = 'sentence to been into seperate Well, annoying.'"
   ]
  },
  {
   "cell_type": "markdown",
   "metadata": {},
   "source": [
    "**Question 3:** Using a `for` loop, return the square of all of the elements in the list below which are greater than 2 or less than -2.5."
   ]
  },
  {
   "cell_type": "code",
   "execution_count": null,
   "metadata": {},
   "outputs": [],
   "source": [
    "examplelist = [1,-2.8,-2.1,-0.03,0.04,-1.9,1.0,20.8,1, -3,3.2]\n",
    "outputlist=#..."
   ]
  },
  {
   "cell_type": "markdown",
   "metadata": {},
   "source": [
    "Now do the same but using a list comprehension."
   ]
  },
  {
   "cell_type": "code",
   "execution_count": null,
   "metadata": {},
   "outputs": [],
   "source": [
    "outputlist=#..."
   ]
  }
 ],
 "metadata": {
  "colab": {
   "collapsed_sections": [],
   "name": "PythonIntro2019.ipynb",
   "provenance": []
  },
  "kernelspec": {
   "display_name": "Python 3 (ipykernel)",
   "language": "python",
   "name": "python3"
  },
  "language_info": {
   "codemirror_mode": {
    "name": "ipython",
    "version": 3
   },
   "file_extension": ".py",
   "mimetype": "text/x-python",
   "name": "python",
   "nbconvert_exporter": "python",
   "pygments_lexer": "ipython3",
   "version": "3.9.13"
  }
 },
 "nbformat": 4,
 "nbformat_minor": 1
}
