{
 "cells": [
  {
   "cell_type": "markdown",
   "id": "5ba911ae",
   "metadata": {
    "slideshow": {
     "slide_type": "slide"
    }
   },
   "source": [
    "# Introduction to Coding and Data Analysis for Scientists\n"
   ]
  },
  {
   "cell_type": "markdown",
   "id": "3c97ace3",
   "metadata": {
    "slideshow": {
     "slide_type": "fragment"
    }
   },
   "source": [
    "## Week 21: Questions & Reflection"
   ]
  },
  {
   "cell_type": "markdown",
   "id": "ab2a33e7",
   "metadata": {
    "slideshow": {
     "slide_type": "slide"
    }
   },
   "source": [
    "## Programming project (assessment)"
   ]
  },
  {
   "cell_type": "markdown",
   "id": "f5c52c28",
   "metadata": {
    "slideshow": {
     "slide_type": "fragment"
    }
   },
   "source": [
    "The final programming project (40%) is now available. This includes a code (20%) and report writing (20%) component."
   ]
  },
  {
   "cell_type": "markdown",
   "id": "94d5cf68",
   "metadata": {
    "slideshow": {
     "slide_type": "fragment"
    }
   },
   "source": [
    "**Due: Wednesday 26 March 2025 at 12 midday.**"
   ]
  },
  {
   "cell_type": "markdown",
   "id": "0c15506a",
   "metadata": {
    "slideshow": {
     "slide_type": "fragment"
    }
   },
   "source": [
    "- Details are available on the [Introductory Scientific Computing](https://www.ole.bris.ac.uk/webapps/blackboard/content/listContentEditable.jsp?content_id=_8257128_1&course_id=_254910_1&mode=reset) Blackboard course - [\"Assessment, submission and feedback\"](https://www.ole.bris.ac.uk/webapps/blackboard/content/listContentEditable.jsp?content_id=_8257140_1&course_id=_254910_1&mode=reset) course content area.\n"
   ]
  },
  {
   "cell_type": "markdown",
   "id": "3277c908",
   "metadata": {
    "slideshow": {
     "slide_type": "fragment"
    }
   },
   "source": [
    "- See also the notes for Tutorial 7"
   ]
  },
  {
   "cell_type": "markdown",
   "id": "436f7e6b",
   "metadata": {
    "slideshow": {
     "slide_type": "fragment"
    }
   },
   "source": [
    "\n",
    "- Submit using **Blackboard** on the \"Assessment, submission and feedback\" tab."
   ]
  },
  {
   "cell_type": "markdown",
   "id": "2ac48a0f",
   "metadata": {
    "slideshow": {
     "slide_type": "slide"
    }
   },
   "source": [
    "## Today's session (Week 21)"
   ]
  },
  {
   "cell_type": "markdown",
   "id": "e356a3ca",
   "metadata": {
    "slideshow": {
     "slide_type": "fragment"
    }
   },
   "source": [
    "**Aim**: Reflect on your scientific computing and provide further detail on the final project\n"
   ]
  },
  {
   "cell_type": "markdown",
   "id": "3324ec5d",
   "metadata": {
    "slideshow": {
     "slide_type": "fragment"
    }
   },
   "source": [
    "1. Reflect on what we have learnt this year"
   ]
  },
  {
   "cell_type": "markdown",
   "id": "7d7fb03c",
   "metadata": {
    "slideshow": {
     "slide_type": "fragment"
    }
   },
   "source": [
    "2. Review common questions"
   ]
  },
  {
   "cell_type": "markdown",
   "id": "102f81f7",
   "metadata": {
    "slideshow": {
     "slide_type": "fragment"
    }
   },
   "source": [
    "3. Discuss how to further develop your computing after the class"
   ]
  },
  {
   "cell_type": "markdown",
   "id": "a8778c8e",
   "metadata": {
    "slideshow": {
     "slide_type": "fragment"
    }
   },
   "source": [
    "4. Open the floor for any questions people would like to discuss"
   ]
  },
  {
   "cell_type": "markdown",
   "id": "d3d62deb",
   "metadata": {
    "slideshow": {
     "slide_type": "slide"
    }
   },
   "source": [
    "## Project Questions "
   ]
  },
  {
   "cell_type": "markdown",
   "id": "e28a8552",
   "metadata": {
    "slideshow": {
     "slide_type": "fragment"
    }
   },
   "source": [
    "### Report"
   ]
  },
  {
   "cell_type": "markdown",
   "id": "79220702",
   "metadata": {
    "slideshow": {
     "slide_type": "fragment"
    }
   },
   "source": [
    "Common questions:"
   ]
  },
  {
   "cell_type": "markdown",
   "id": "3f7ea539",
   "metadata": {
    "slideshow": {
     "slide_type": "fragment"
    }
   },
   "source": [
    "- *How should the report be formatted?*"
   ]
  },
  {
   "cell_type": "markdown",
   "id": "411caddb",
   "metadata": {
    "slideshow": {
     "slide_type": "fragment"
    }
   },
   "source": [
    "- *How long should the report be?*"
   ]
  },
  {
   "cell_type": "markdown",
   "id": "75019ff3",
   "metadata": {
    "slideshow": {
     "slide_type": "slide"
    }
   },
   "source": [
    "### Report"
   ]
  },
  {
   "cell_type": "markdown",
   "id": "1f0bed78",
   "metadata": {
    "slideshow": {
     "slide_type": "fragment"
    }
   },
   "source": [
    "*How should the report be formatted?*"
   ]
  },
  {
   "cell_type": "markdown",
   "id": "94898325",
   "metadata": {
    "slideshow": {
     "slide_type": "fragment"
    }
   },
   "source": [
    "> For the report, we’d like you to write this like a **investigative report** where a hypothesis has been tested based on the data available. This includes an **abstract, introduction, analysis and discussion, conclusions and any references** you have used. "
   ]
  },
  {
   "cell_type": "markdown",
   "id": "e845603d",
   "metadata": {
    "slideshow": {
     "slide_type": "fragment"
    }
   },
   "source": [
    "> **Note:** You can use Microsoft Word or LaTex for submission. **There is no penalty for using Microsoft word**."
   ]
  },
  {
   "cell_type": "markdown",
   "id": "5cfe9e04",
   "metadata": {
    "slideshow": {
     "slide_type": "fragment"
    }
   },
   "source": [
    "> **Tip:** Start by thinking about what to put under each section heading so you have an idea of the structure you’re aiming for."
   ]
  },
  {
   "cell_type": "markdown",
   "id": "cbc898b3",
   "metadata": {
    "slideshow": {
     "slide_type": "slide"
    }
   },
   "source": [
    "### Report"
   ]
  },
  {
   "cell_type": "markdown",
   "id": "f82b4a98",
   "metadata": {
    "slideshow": {
     "slide_type": "fragment"
    }
   },
   "source": [
    "*Should we include code and plot/outputs?*"
   ]
  },
  {
   "cell_type": "markdown",
   "id": "69faa87d",
   "metadata": {
    "slideshow": {
     "slide_type": "fragment"
    }
   },
   "source": [
    "> You should not include any explicit code **within the report** "
   ]
  },
  {
   "cell_type": "markdown",
   "id": "3fd39069",
   "metadata": {
    "slideshow": {
     "slide_type": "fragment"
    }
   },
   "source": [
    "> Code will be submitted in a notebook alongside the report (**this is also assessed!**). "
   ]
  },
  {
   "cell_type": "markdown",
   "id": "e75aa31b",
   "metadata": {
    "slideshow": {
     "slide_type": "fragment"
    }
   },
   "source": [
    "> In the report, you should describe the method and approach you took with any hypotheses you tested but can also add references to the code document as well if you like. "
   ]
  },
  {
   "cell_type": "markdown",
   "id": "194d4f70",
   "metadata": {
    "slideshow": {
     "slide_type": "fragment"
    }
   },
   "source": [
    "> **Plots/outputs should be included in the report** when they illustrate results you want to show."
   ]
  },
  {
   "cell_type": "markdown",
   "id": "a2776b76",
   "metadata": {
    "slideshow": {
     "slide_type": "slide"
    }
   },
   "source": [
    "### Report"
   ]
  },
  {
   "cell_type": "markdown",
   "id": "016b6a7f",
   "metadata": {
    "slideshow": {
     "slide_type": "fragment"
    }
   },
   "source": [
    "*How long should the report be?*"
   ]
  },
  {
   "cell_type": "markdown",
   "id": "eeca1117",
   "metadata": {
    "slideshow": {
     "slide_type": "fragment"
    }
   },
   "source": [
    "> This should be a substantial piece of work, so you should aim for your report to be **approximately 1000-2000 words or 3-6 sides of A4** (including plots). Though this is not a\n",
    "hard limit, where possible you should aim to provide adequate detail but to also be concise and directed. Please stick to the **suggested structure** within the project outline."
   ]
  },
  {
   "cell_type": "code",
   "execution_count": null,
   "id": "9657c8a2",
   "metadata": {
    "slideshow": {
     "slide_type": "fragment"
    }
   },
   "outputs": [],
   "source": [
    "#!pip install lorem\n",
    "import lorem\n",
    "\n",
    "# Generate 200 words of Lorem Ipsum text\n",
    "lorem_text = lorem.text().split()[:200]  # Get exactly 200 words\n",
    "lorem_text = \" \".join(lorem_text)  # Convert back to string\n",
    "\n",
    "print(lorem_text)"
   ]
  },
  {
   "cell_type": "markdown",
   "id": "fb000dc1",
   "metadata": {
    "slideshow": {
     "slide_type": "slide"
    }
   },
   "source": [
    "### Coding component"
   ]
  },
  {
   "cell_type": "markdown",
   "id": "ffd4320a",
   "metadata": {
    "slideshow": {
     "slide_type": "fragment"
    }
   },
   "source": [
    "- *What output do we need to produce?*"
   ]
  },
  {
   "cell_type": "markdown",
   "id": "66970d1a",
   "metadata": {
    "slideshow": {
     "slide_type": "fragment"
    }
   },
   "source": [
    "- *How much detail do we need in our code document?*"
   ]
  },
  {
   "cell_type": "markdown",
   "id": "a69ca959",
   "metadata": {
    "slideshow": {
     "slide_type": "slide"
    }
   },
   "source": [
    "### Coding component"
   ]
  },
  {
   "cell_type": "markdown",
   "id": "5e4ec93e",
   "metadata": {
    "slideshow": {
     "slide_type": "fragment"
    }
   },
   "source": [
    "\n",
    "* What output do we need to produce?"
   ]
  },
  {
   "cell_type": "markdown",
   "id": "1dfb8346",
   "metadata": {
    "slideshow": {
     "slide_type": "fragment"
    }
   },
   "source": [
    " > You must submit a jupyter notebook containing all of your code. \n",
    " "
   ]
  },
  {
   "cell_type": "markdown",
   "id": "9f18aba6",
   "metadata": {
    "slideshow": {
     "slide_type": "fragment"
    }
   },
   "source": [
    "\n",
    " > In addition, if you feel it makes sense for your code, you can include `.py` modules containing functions you have written which were too large to include in the notebook. \n",
    " "
   ]
  },
  {
   "cell_type": "markdown",
   "id": "8ebdab2d",
   "metadata": {
    "slideshow": {
     "slide_type": "fragment"
    }
   },
   "source": [
    "\n",
    " > There will be marks for code organisation, so think carefully about how you structure your work!"
   ]
  },
  {
   "cell_type": "markdown",
   "id": "7a75cd69",
   "metadata": {
    "slideshow": {
     "slide_type": "slide"
    }
   },
   "source": [
    "### Coding component"
   ]
  },
  {
   "cell_type": "markdown",
   "id": "c14d5a99",
   "metadata": {
    "slideshow": {
     "slide_type": "fragment"
    }
   },
   "source": [
    "\n",
    "* How much detail do we need in our code document?"
   ]
  },
  {
   "cell_type": "markdown",
   "id": "5fe5d86d",
   "metadata": {
    "slideshow": {
     "slide_type": "fragment"
    }
   },
   "source": [
    "> The coding component should be **self-contained** and include enough detail to be understood without referencing the report. This means you must highlight the steps taken, comment the code and explain any code used to create plots."
   ]
  },
  {
   "cell_type": "markdown",
   "id": "354ac6ca",
   "metadata": {
    "slideshow": {
     "slide_type": "slide"
    }
   },
   "source": [
    "### Overall"
   ]
  },
  {
   "cell_type": "markdown",
   "id": "1a95a204",
   "metadata": {
    "slideshow": {
     "slide_type": "fragment"
    }
   },
   "source": [
    "\n",
    "\n",
    "- For each question, think about what approach you want to take and what hypothesis you are testing. Make sure you're addressing the main question."
   ]
  },
  {
   "cell_type": "markdown",
   "id": "54445723",
   "metadata": {
    "slideshow": {
     "slide_type": "fragment"
    }
   },
   "source": [
    "- If you're unsure how to approach a problem, break it down into smaller steps and build it up. "
   ]
  },
  {
   "cell_type": "markdown",
   "id": "020fc2a6",
   "metadata": {
    "slideshow": {
     "slide_type": "fragment"
    }
   },
   "source": [
    "- Focus on your key results. Although all questions should be addressed, don't feel you have to equally present everything."
   ]
  },
  {
   "cell_type": "markdown",
   "id": "3b8e2b29",
   "metadata": {
    "slideshow": {
     "slide_type": "fragment"
    }
   },
   "source": [
    " - Ensure you understand what your model is producing. It is advisable to start with a simple, understandable settings/analyses before attempting the full solution."
   ]
  },
  {
   "cell_type": "markdown",
   "id": "4a0f93e8",
   "metadata": {
    "slideshow": {
     "slide_type": "fragment"
    }
   },
   "source": [
    " - For Option 2, make sure to look over the data e.g. look at the file itself, check some overall statistics and make plots, even if they don't get included within your final submission."
   ]
  },
  {
   "cell_type": "markdown",
   "id": "4fe9465f",
   "metadata": {
    "slideshow": {
     "slide_type": "slide"
    }
   },
   "source": [
    "## Your questions"
   ]
  },
  {
   "cell_type": "markdown",
   "id": "c626d4c3",
   "metadata": {
    "slideshow": {
     "slide_type": "fragment"
    }
   },
   "source": [
    "Please use this opportunity to ask any additional questions you have for the remainder of the session. "
   ]
  },
  {
   "cell_type": "markdown",
   "id": "ccde3904",
   "metadata": {
    "slideshow": {
     "slide_type": "fragment"
    }
   },
   "source": [
    "\n",
    " - These can be about the project (within reason)"
   ]
  },
  {
   "cell_type": "markdown",
   "id": "765cc40d",
   "metadata": {
    "slideshow": {
     "slide_type": "fragment"
    }
   },
   "source": [
    " - Or about the material covered so far."
   ]
  },
  {
   "cell_type": "markdown",
   "id": "36cebf74",
   "metadata": {
    "slideshow": {
     "slide_type": "fragment"
    }
   },
   "source": [
    " - Or anything else coding related."
   ]
  },
  {
   "cell_type": "markdown",
   "id": "4a9bb5ae",
   "metadata": {
    "slideshow": {
     "slide_type": "slide"
    }
   },
   "source": [
    "<img src=\"images/mentimeter_qr_code.png\" width=\"500\">"
   ]
  },
  {
   "cell_type": "markdown",
   "id": "b2d8b0a3",
   "metadata": {
    "slideshow": {
     "slide_type": "slide"
    }
   },
   "source": [
    "## This year"
   ]
  },
  {
   "cell_type": "markdown",
   "id": "8a2adf81",
   "metadata": {
    "slideshow": {
     "slide_type": "fragment"
    }
   },
   "source": [
    "With what you've already learnt you can use Python to:"
   ]
  },
  {
   "cell_type": "markdown",
   "id": "40f9c568",
   "metadata": {
    "slideshow": {
     "slide_type": "fragment"
    }
   },
   "source": [
    " - Perform numerical computation"
   ]
  },
  {
   "cell_type": "markdown",
   "id": "c8e2bbc9",
   "metadata": {
    "slideshow": {
     "slide_type": "fragment"
    }
   },
   "source": [
    " - Execute logical operations using loops and control flow statements"
   ]
  },
  {
   "cell_type": "markdown",
   "id": "d3fa15f5",
   "metadata": {
    "slideshow": {
     "slide_type": "fragment"
    }
   },
   "source": [
    "- Read and interpret data from files"
   ]
  },
  {
   "cell_type": "markdown",
   "id": "2a22ca3c",
   "metadata": {
    "slideshow": {
     "slide_type": "fragment"
    }
   },
   "source": [
    "- Make different types of plots"
   ]
  },
  {
   "cell_type": "markdown",
   "id": "244b8711",
   "metadata": {
    "slideshow": {
     "slide_type": "slide"
    }
   },
   "source": [
    "## Material for today\n",
    "\n"
   ]
  },
  {
   "cell_type": "markdown",
   "id": "983ff637",
   "metadata": {
    "slideshow": {
     "slide_type": "fragment"
    }
   },
   "source": [
    "1. Requested topics from previous years:\n",
    "  "
   ]
  },
  {
   "cell_type": "markdown",
   "id": "94baec89",
   "metadata": {
    "slideshow": {
     "slide_type": "fragment"
    }
   },
   "source": [
    "<ul style=\"margin-left: 2em; list-style-type: circle;\">\n",
    "    <li><a href=\"../../Course_SCIF10002_2024/Week21/Week21_topics.ipynb\">Week21_topics</a></li>\n",
    "</ul>"
   ]
  },
  {
   "cell_type": "markdown",
   "id": "8d3967dc",
   "metadata": {
    "slideshow": {
     "slide_type": "fragment"
    }
   },
   "source": [
    "<ul style=\"margin-left: 2em; list-style-type: circle;\">\n",
    "    <li><a href=\"../../Course_SCIF10002_2024/Week21/Week21_topic_examples.ipynb\">Week21_topic_examples</a></li>\n",
    "</ul>"
   ]
  },
  {
   "cell_type": "markdown",
   "id": "8eb80872",
   "metadata": {
    "slideshow": {
     "slide_type": "fragment"
    }
   },
   "source": [
    "2. Requested material from last week:"
   ]
  },
  {
   "cell_type": "markdown",
   "id": "6b147f88",
   "metadata": {
    "slideshow": {
     "slide_type": "fragment"
    }
   },
   "source": [
    " <ul style=\"margin-left: 2em; list-style-type: circle;\">\n",
    "    <li><a href=\"Supplementary_Datatypes_Loops_and_Logic.ipynb\">Supplementary_Datatypes_Loops_and_Logic</a></li>\n",
    "</ul>"
   ]
  },
  {
   "cell_type": "markdown",
   "id": "bf5c65b0",
   "metadata": {
    "slideshow": {
     "slide_type": "fragment"
    }
   },
   "source": [
    " <ul style=\"margin-left: 2em; list-style-type: circle;\">\n",
    "    <li><a href=\"Supplementary_Pandas.ipynb\">Supplementary_Pandas</a></li>\n",
    "</ul>"
   ]
  },
  {
   "cell_type": "markdown",
   "id": "04b6f8ef",
   "metadata": {
    "slideshow": {
     "slide_type": "slide"
    }
   },
   "source": [
    "## Where can you take your scientific computing?"
   ]
  },
  {
   "cell_type": "markdown",
   "id": "a5ba2c0c",
   "metadata": {
    "slideshow": {
     "slide_type": "fragment"
    }
   },
   "source": [
    "### Download Python+VSCode"
   ]
  },
  {
   "cell_type": "markdown",
   "id": "2a0573ec",
   "metadata": {
    "slideshow": {
     "slide_type": "fragment"
    }
   },
   "source": [
    "Visual Studio Code is an open-source code editor developed by Microsoft. It allows you to  create and manipulate notebooks conveniently on any platform."
   ]
  },
  {
   "cell_type": "markdown",
   "id": "87d51df1",
   "metadata": {
    "slideshow": {
     "slide_type": "fragment"
    }
   },
   "source": [
    "Go to: https://code.visualstudio.com/\n"
   ]
  },
  {
   "cell_type": "markdown",
   "id": "ad75acfe",
   "metadata": {
    "slideshow": {
     "slide_type": "fragment"
    }
   },
   "source": [
    "To install a full Python environment, follow this guide:"
   ]
  },
  {
   "cell_type": "markdown",
   "id": "86f103a4",
   "metadata": {
    "slideshow": {
     "slide_type": "fragment"
    }
   },
   "source": [
    "https://www.raillyhugo.com/blog/how-to-setup-python-environment"
   ]
  },
  {
   "cell_type": "markdown",
   "id": "8ba6d8ad",
   "metadata": {
    "slideshow": {
     "slide_type": "fragment"
    }
   },
   "source": [
    "For Mac OS X users, a custom Python installation via `pyenv` is highly reccomended:"
   ]
  },
  {
   "cell_type": "markdown",
   "id": "eacdee4a",
   "metadata": {
    "slideshow": {
     "slide_type": "fragment"
    }
   },
   "source": [
    "- Pyenv: https://github.com/pyenv/pyenv\n"
   ]
  },
  {
   "cell_type": "markdown",
   "id": "fdf4653f",
   "metadata": {
    "slideshow": {
     "slide_type": "fragment"
    }
   },
   "source": [
    "Some minimal knowledge of the Terminal is required to install custom Python versions and packages via `pip`. However, you will learn a lot following this route and gain a better understanding of how your computer works.\n"
   ]
  },
  {
   "cell_type": "markdown",
   "id": "51b80aac",
   "metadata": {
    "slideshow": {
     "slide_type": "slide"
    }
   },
   "source": [
    "### Download Anaconda"
   ]
  },
  {
   "cell_type": "markdown",
   "id": "c194e8ff",
   "metadata": {
    "slideshow": {
     "slide_type": "fragment"
    }
   },
   "source": [
    "<img src=\"images/anaconda-logo.png\" alt=\"Anaconda logo\" style=\"display:block;margin-left:auto;margin-right:auto;width:25%\"/>\n"
   ]
  },
  {
   "cell_type": "markdown",
   "id": "c1f7d63e",
   "metadata": {
    "slideshow": {
     "slide_type": "fragment"
    }
   },
   "source": [
    "An alternative is provided by  the Anaconda (Individual Edition) on your own computer."
   ]
  },
  {
   "cell_type": "markdown",
   "id": "246bab98",
   "metadata": {
    "slideshow": {
     "slide_type": "fragment"
    }
   },
   "source": [
    "This is free to download and use and has Jupyter notebooks (and JupyterLab) built in."
   ]
  },
  {
   "cell_type": "markdown",
   "id": "6518f13e",
   "metadata": {
    "slideshow": {
     "slide_type": "fragment"
    }
   },
   "source": [
    "Go to: https://www.anaconda.com/download"
   ]
  },
  {
   "cell_type": "markdown",
   "id": "e8665da5",
   "metadata": {
    "slideshow": {
     "slide_type": "fragment"
    }
   },
   "source": [
    " - Download the appropriate version for your operating system (may have been pre-detected)."
   ]
  },
  {
   "cell_type": "markdown",
   "id": "da03b519",
   "metadata": {
    "slideshow": {
     "slide_type": "slide"
    }
   },
   "source": [
    "### Analysing data"
   ]
  },
  {
   "cell_type": "markdown",
   "id": "36636376",
   "metadata": {
    "slideshow": {
     "slide_type": "fragment"
    }
   },
   "source": [
    "\n",
    "<img src=\"images/pandas.svg\" alt=\"Pandas logo\" style=\"display:block;margin-left:auto;margin-right:auto;width:15%\"/>"
   ]
  },
  {
   "cell_type": "markdown",
   "id": "544d7d2d",
   "metadata": {
    "slideshow": {
     "slide_type": "fragment"
    }
   },
   "source": [
    "We have covered the fundamentals for using the `pandas` module in this course and have started to look at some more complex topics. If you've found this to be useful, you can continue learning more about pandas for data analysis and the other methods it provides."
   ]
  },
  {
   "cell_type": "markdown",
   "id": "cf73a8e8",
   "metadata": {
    "slideshow": {
     "slide_type": "fragment"
    }
   },
   "source": [
    "Start off with:"
   ]
  },
  {
   "cell_type": "markdown",
   "id": "3ee6fe8d",
   "metadata": {
    "slideshow": {
     "slide_type": "fragment"
    }
   },
   "source": [
    "#### 10 minutes to pandas\n"
   ]
  },
  {
   "cell_type": "markdown",
   "id": "30d7d7b1",
   "metadata": {
    "slideshow": {
     "slide_type": "fragment"
    }
   },
   "source": [
    "This gives an overview of some key pandas concepts, including some topics we have covered and some we haven't. Work through this for an overview:\n"
   ]
  },
  {
   "cell_type": "markdown",
   "id": "7f150b4d",
   "metadata": {
    "slideshow": {
     "slide_type": "fragment"
    }
   },
   "source": [
    "\n",
    "- https://pandas.pydata.org/docs/user_guide/10min.html"
   ]
  },
  {
   "cell_type": "markdown",
   "id": "4c3389a0",
   "metadata": {
    "slideshow": {
     "slide_type": "slide"
    }
   },
   "source": [
    "#### More concepts in pandas"
   ]
  },
  {
   "cell_type": "markdown",
   "id": "69c69b23",
   "metadata": {
    "slideshow": {
     "slide_type": "fragment"
    }
   },
   "source": [
    "- [**Split-apply-combine** methods](https://pandas.pydata.org/docs/user_guide/groupby.html) (including grouping, [resampling](https://pandas.pydata.org/docs/user_guide/timeseries.html#timeseries-resampling) and [window](https://pandas.pydata.org/docs/user_guide/window.html) methods)"
   ]
  },
  {
   "cell_type": "markdown",
   "id": "5e52013c",
   "metadata": {
    "slideshow": {
     "slide_type": "fragment"
    }
   },
   "source": [
    "- **Binning data** (e.g. [cut function](https://pandas.pydata.org/docs/reference/api/pandas.cut.html))"
   ]
  },
  {
   "cell_type": "markdown",
   "id": "5aa97fbc",
   "metadata": {
    "slideshow": {
     "slide_type": "fragment"
    }
   },
   "source": [
    "\n",
    "- **Using functions** across whole rows/columns (including [apply method](https://pandas.pydata.org/docs/user_guide/basics.html#row-or-column-wise-function-application), [string methods](https://pandas.pydata.org/docs/user_guide/text.html#text-string-methods), [datetime methods](https://pandas.pydata.org/docs/user_guide/basics.html#dt-accessor))"
   ]
  },
  {
   "cell_type": "markdown",
   "id": "5b0e2052",
   "metadata": {
    "slideshow": {
     "slide_type": "fragment"
    }
   },
   "source": [
    "- **Styling** your data table look how you want (e.g. [Styling your DataFrame](https://pandas.pydata.org/docs/user_guide/style.html))"
   ]
  },
  {
   "cell_type": "markdown",
   "id": "eb5d6660",
   "metadata": {
    "slideshow": {
     "slide_type": "slide"
    }
   },
   "source": [
    "### Visualisation"
   ]
  },
  {
   "cell_type": "markdown",
   "id": "db3ab705",
   "metadata": {
    "slideshow": {
     "slide_type": "fragment"
    }
   },
   "source": [
    "\n",
    "#### Pandas.plotting submodule\n"
   ]
  },
  {
   "cell_type": "markdown",
   "id": "7031f1fb",
   "metadata": {
    "slideshow": {
     "slide_type": "fragment"
    }
   },
   "source": [
    "\n",
    "<img src=\"images/scatter_matrix_kde.png\" alt=\"Pandas plotting - scatter matrix\" style=\"display:block;margin-left:auto;margin-right:auto;width:30%\"/>"
   ]
  },
  {
   "cell_type": "markdown",
   "id": "3c84beb1",
   "metadata": {
    "slideshow": {
     "slide_type": "fragment"
    }
   },
   "source": [
    "\n",
    "\n",
    "In addition to plotting tools we have used in pandas so far there is also a [pandas.plotting submodule](https://pandas.pydata.org/pandas-docs/stable/user_guide/visualization.html#plotting-tools) with more plotting tools like this *scatter matrix*, looking at correlations between the data properties by combining scatter plots and kernel density plots."
   ]
  },
  {
   "cell_type": "markdown",
   "id": "e0837aa9",
   "metadata": {
    "slideshow": {
     "slide_type": "slide"
    }
   },
   "source": [
    "#### Matplotlib and seaborn"
   ]
  },
  {
   "cell_type": "markdown",
   "id": "1006fd97",
   "metadata": {
    "slideshow": {
     "slide_type": "fragment"
    }
   },
   "source": [
    "\n",
    "\n",
    "For more plotting techniques and options in Python see these tutorials for matplotlib and the seaborn package:"
   ]
  },
  {
   "cell_type": "markdown",
   "id": "36a2d6bb",
   "metadata": {
    "slideshow": {
     "slide_type": "fragment"
    }
   },
   "source": [
    " - Matplotlib tutorials - https://matplotlib.org/stable/tutorials/index.html"
   ]
  },
  {
   "cell_type": "markdown",
   "id": "1af37035",
   "metadata": {
    "slideshow": {
     "slide_type": "fragment"
    }
   },
   "source": [
    " - Seaborn User Guide - https://seaborn.pydata.org/tutorial/function_overview.html ([documentation](https://seaborn.pydata.org/))\n",
    "    "
   ]
  },
  {
   "cell_type": "markdown",
   "id": "27d33d21",
   "metadata": {
    "slideshow": {
     "slide_type": "slide"
    }
   },
   "source": [
    "### Parametrising data\n"
   ]
  },
  {
   "cell_type": "markdown",
   "id": "9d9b0a87",
   "metadata": {
    "slideshow": {
     "slide_type": "fragment"
    }
   },
   "source": [
    "\n",
    "<img src=\"images/scikit-learn-logo.png\" alt=\"Scikit-learn logo\" style=\"display:block;margin-left:auto;margin-right:auto;width:15%\"/>\n"
   ]
  },
  {
   "cell_type": "markdown",
   "id": "bcc52179",
   "metadata": {
    "slideshow": {
     "slide_type": "fragment"
    }
   },
   "source": [
    "\n",
    "The [scikit-learn package](https://scikit-learn.org/stable/) provides lots of methods for applying different parametrisations to data including simple linear regression and more complex fits."
   ]
  },
  {
   "cell_type": "markdown",
   "id": "f1f75492",
   "metadata": {
    "slideshow": {
     "slide_type": "fragment"
    }
   },
   "source": [
    "\n",
    "The scipy module also provides a lot of tools for both fitting data and performing statistical tests. Including:\n"
   ]
  },
  {
   "cell_type": "markdown",
   "id": "c699e232",
   "metadata": {
    "slideshow": {
     "slide_type": "fragment"
    }
   },
   "source": [
    " - curve_fit - https://docs.scipy.org/doc/scipy/reference/generated/scipy.optimize.curve_fit.html\n"
   ]
  },
  {
   "cell_type": "markdown",
   "id": "d2d41c31",
   "metadata": {
    "slideshow": {
     "slide_type": "fragment"
    }
   },
   "source": [
    "\n",
    " - stats module - https://docs.scipy.org/doc/scipy/reference/stats.html (e.g. https://docs.scipy.org/doc/scipy/tutorial/stats.html#analysing-one-sample)"
   ]
  },
  {
   "cell_type": "markdown",
   "id": "5a183d85",
   "metadata": {
    "slideshow": {
     "slide_type": "slide"
    }
   },
   "source": [
    "### Creating algorithms and models\n"
   ]
  },
  {
   "cell_type": "markdown",
   "id": "b23b14ed",
   "metadata": {
    "slideshow": {
     "slide_type": "fragment"
    }
   },
   "source": [
    "#### Numpy and Scipy\n",
    "\n"
   ]
  },
  {
   "cell_type": "markdown",
   "id": "6923527d",
   "metadata": {
    "slideshow": {
     "slide_type": "fragment"
    }
   },
   "source": [
    "We have seen how the numpy module can be used to create efficient algorithms and processes. Have a a look at the scipy lectures series for some good examples of array manipulation and broadcasting for effective ways you could use these tools:"
   ]
  },
  {
   "cell_type": "markdown",
   "id": "ecd9c005",
   "metadata": {
    "slideshow": {
     "slide_type": "fragment"
    }
   },
   "source": [
    "\n",
    " - https://scipy-lectures.org/intro/numpy/operations.html"
   ]
  },
  {
   "cell_type": "markdown",
   "id": "c3bf9d5b",
   "metadata": {
    "slideshow": {
     "slide_type": "slide"
    }
   },
   "source": [
    "## Next week"
   ]
  },
  {
   "cell_type": "markdown",
   "id": "82614f94",
   "metadata": {
    "slideshow": {
     "slide_type": "fragment"
    }
   },
   "source": [
    " - Next week, there will be an optional drop-in session "
   ]
  },
  {
   "cell_type": "markdown",
   "id": "cb811fad",
   "metadata": {
    "slideshow": {
     "slide_type": "fragment"
    }
   },
   "source": [
    " - Same room, same time"
   ]
  },
  {
   "cell_type": "markdown",
   "id": "1696f7c6",
   "metadata": {
    "slideshow": {
     "slide_type": "fragment"
    }
   },
   "source": [
    " - Please feel free to bring any material you would like to this"
   ]
  },
  {
   "cell_type": "markdown",
   "id": "d8a8cf1b",
   "metadata": {
    "slideshow": {
     "slide_type": "fragment"
    }
   },
   "source": [
    " - You can use this time to work on the project"
   ]
  },
  {
   "cell_type": "markdown",
   "id": "61634f4b",
   "metadata": {
    "slideshow": {
     "slide_type": "fragment"
    }
   },
   "source": [
    " - Or any other material you like"
   ]
  },
  {
   "cell_type": "markdown",
   "id": "f55132c4",
   "metadata": {
    "slideshow": {
     "slide_type": "fragment"
    }
   },
   "source": [
    " - Final opportunity to ask questions!"
   ]
  },
  {
   "cell_type": "markdown",
   "id": "04e00907",
   "metadata": {
    "slideshow": {
     "slide_type": "slide"
    }
   },
   "source": [
    "# Thanks all "
   ]
  },
  {
   "cell_type": "markdown",
   "id": "8b8eb503",
   "metadata": {
    "slideshow": {
     "slide_type": "fragment"
    }
   },
   "source": [
    "## Good luck in your exams"
   ]
  }
 ],
 "metadata": {
  "celltoolbar": "Slideshow",
  "kernelspec": {
   "display_name": "Python 3 (ipykernel)",
   "language": "python",
   "name": "python3"
  },
  "language_info": {
   "codemirror_mode": {
    "name": "ipython",
    "version": 3
   },
   "file_extension": ".py",
   "mimetype": "text/x-python",
   "name": "python",
   "nbconvert_exporter": "python",
   "pygments_lexer": "ipython3",
   "version": "3.9.13"
  }
 },
 "nbformat": 4,
 "nbformat_minor": 5
}
