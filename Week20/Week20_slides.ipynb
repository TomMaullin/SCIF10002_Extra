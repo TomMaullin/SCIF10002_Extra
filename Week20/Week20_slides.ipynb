{
 "cells": [
  {
   "cell_type": "markdown",
   "id": "cb8e22d9",
   "metadata": {
    "slideshow": {
     "slide_type": "slide"
    }
   },
   "source": [
    "# Introduction to Coding and Data Analysis for Scientists"
   ]
  },
  {
   "cell_type": "markdown",
   "id": "1e18711b",
   "metadata": {
    "slideshow": {
     "slide_type": "fragment"
    }
   },
   "source": [
    "## Week 20: Consolidation"
   ]
  },
  {
   "cell_type": "markdown",
   "id": "07bc16e6",
   "metadata": {
    "slideshow": {
     "slide_type": "slide"
    }
   },
   "source": [
    "## Important: Project 4 Release"
   ]
  },
  {
   "cell_type": "markdown",
   "id": "d6ca4891",
   "metadata": {
    "slideshow": {
     "slide_type": "fragment"
    }
   },
   "source": [
    "**Fourth (and final) programming project will be set this week.**"
   ]
  },
  {
   "cell_type": "markdown",
   "id": "3ba722e6",
   "metadata": {
    "slideshow": {
     "slide_type": "slide"
    }
   },
   "source": [
    "## Topic areas "
   ]
  },
  {
   "cell_type": "markdown",
   "id": "f1e8e038",
   "metadata": {
    "slideshow": {
     "slide_type": "fragment"
    }
   },
   "source": [
    "<img src=\"qr.png\" width=\"500\">"
   ]
  },
  {
   "cell_type": "markdown",
   "id": "0b1a6f96",
   "metadata": {
    "slideshow": {
     "slide_type": "slide"
    }
   },
   "source": [
    "## Question 1"
   ]
  },
  {
   "cell_type": "markdown",
   "id": "6b360a2f",
   "metadata": {
    "slideshow": {
     "slide_type": "fragment"
    }
   },
   "source": [
    "\n",
    "\n",
    "Which topics do you feel less confident in?"
   ]
  },
  {
   "cell_type": "markdown",
   "id": "6ce4f0ea",
   "metadata": {
    "slideshow": {
     "slide_type": "fragment"
    }
   },
   "source": [
    "1. **Python the language** - variables, loops, branches, functions"
   ]
  },
  {
   "cell_type": "markdown",
   "id": "f9a62d7e",
   "metadata": {
    "slideshow": {
     "slide_type": "fragment"
    }
   },
   "source": [
    "2. **Numpy** - array objects and properties, indexing, numpy functions"
   ]
  },
  {
   "cell_type": "markdown",
   "id": "69895d39",
   "metadata": {
    "slideshow": {
     "slide_type": "fragment"
    }
   },
   "source": [
    "3. **Pandas** - DataFrames, filtering, timeseries"
   ]
  },
  {
   "cell_type": "markdown",
   "id": "6848b23c",
   "metadata": {
    "slideshow": {
     "slide_type": "fragment"
    }
   },
   "source": [
    "4. **Plotting** - Pyplot (matplotlib), plotting using pandas"
   ]
  },
  {
   "cell_type": "markdown",
   "id": "5f02bc15",
   "metadata": {
    "slideshow": {
     "slide_type": "slide"
    }
   },
   "source": [
    "## Question 2"
   ]
  },
  {
   "cell_type": "markdown",
   "id": "7f87a402",
   "metadata": {
    "slideshow": {
     "slide_type": "fragment"
    }
   },
   "source": [
    "Today, you will have free choice to look at a selection of exercises. Which will you look at?"
   ]
  },
  {
   "cell_type": "markdown",
   "id": "c568fdcf",
   "metadata": {
    "slideshow": {
     "slide_type": "fragment"
    }
   },
   "source": [
    "1. **Python the language** - variables, loops, branches, functions"
   ]
  },
  {
   "cell_type": "markdown",
   "id": "8b5aadb0",
   "metadata": {
    "slideshow": {
     "slide_type": "fragment"
    }
   },
   "source": [
    "2. **Numpy** - array objects and properties, indexing, numpy functions"
   ]
  },
  {
   "cell_type": "markdown",
   "id": "3ee0a2da",
   "metadata": {
    "slideshow": {
     "slide_type": "fragment"
    }
   },
   "source": [
    "3. **Pandas** - DataFrames, filtering, timeseries"
   ]
  },
  {
   "cell_type": "markdown",
   "id": "a201ddf6",
   "metadata": {
    "slideshow": {
     "slide_type": "fragment"
    }
   },
   "source": [
    "4. **Plotting** - Pyplot (matplotlib), plotting using pandas"
   ]
  },
  {
   "cell_type": "markdown",
   "id": "69e25dc0",
   "metadata": {
    "slideshow": {
     "slide_type": "slide"
    }
   },
   "source": [
    "## Question 3"
   ]
  },
  {
   "cell_type": "markdown",
   "id": "2909b7e9",
   "metadata": {
    "slideshow": {
     "slide_type": "fragment"
    }
   },
   "source": [
    "What would you like more practice doing?"
   ]
  },
  {
   "cell_type": "markdown",
   "id": "0715081d",
   "metadata": {
    "slideshow": {
     "slide_type": "fragment"
    }
   },
   "source": [
    "*e.g. writing functions, reading files,...*"
   ]
  },
  {
   "cell_type": "markdown",
   "id": "08b2e185",
   "metadata": {
    "slideshow": {
     "slide_type": "fragment"
    }
   },
   "source": [
    "Please try to be specific!"
   ]
  },
  {
   "cell_type": "markdown",
   "id": "23606122",
   "metadata": {
    "slideshow": {
     "slide_type": "fragment"
    }
   },
   "source": [
    "(\"Everything\" or \"nothing\" might not be too helpful!)"
   ]
  },
  {
   "cell_type": "markdown",
   "id": "8c398413",
   "metadata": {
    "slideshow": {
     "slide_type": "slide"
    }
   },
   "source": [
    "## Today's session (Week 20)\n"
   ]
  },
  {
   "cell_type": "markdown",
   "id": "549ed898",
   "metadata": {
    "slideshow": {
     "slide_type": "fragment"
    }
   },
   "source": [
    "**Aim**: Identity which areas you would like to practice and improve."
   ]
  },
  {
   "cell_type": "markdown",
   "id": "48fe270a",
   "metadata": {
    "slideshow": {
     "slide_type": "fragment"
    }
   },
   "source": [
    "1. Choose your own activity:"
   ]
  },
  {
   "cell_type": "markdown",
   "id": "8c45579b",
   "metadata": {
    "slideshow": {
     "slide_type": "fragment"
    }
   },
   "source": [
    "<ul style=\"margin-left: 2em; list-style-type: circle;\">\n",
    "    <li><a href=\"../../Course_SCIF10002_2024/Week20/Week20_01A_Python.ipynb\">Week20_01A_Python</a></li>\n",
    "</ul>"
   ]
  },
  {
   "cell_type": "markdown",
   "id": "63e74eac",
   "metadata": {
    "slideshow": {
     "slide_type": "fragment"
    }
   },
   "source": [
    "<ul style=\"margin-left: 2em; list-style-type: circle;\">\n",
    "    <li><a href=\"../../Course_SCIF10002_2024/Week20/Week20_01B_Numpy.ipynb\">Week20_01B_Numpy</a></li>\n",
    "</ul>"
   ]
  },
  {
   "cell_type": "markdown",
   "id": "b826bf4a",
   "metadata": {
    "slideshow": {
     "slide_type": "fragment"
    }
   },
   "source": [
    "<ul style=\"margin-left: 2em; list-style-type: circle;\">\n",
    "    <li><a href=\"../../Course_SCIF10002_2024/Week20/Week20_01C_Pandas.ipynb\">Week20_01C_Pandas</a></li>\n",
    "</ul>"
   ]
  },
  {
   "cell_type": "markdown",
   "id": "676fa2f3",
   "metadata": {
    "slideshow": {
     "slide_type": "fragment"
    }
   },
   "source": [
    "<ul style=\"margin-left: 2em; list-style-type: circle;\">\n",
    "    <li><a href=\"../../Course_SCIF10002_2024/Week20/Week20_01D_Plotting.ipynb\">Week20_01D_Plotting</a></li>\n",
    "</ul>"
   ]
  },
  {
   "cell_type": "markdown",
   "id": "d8871367",
   "metadata": {
    "slideshow": {
     "slide_type": "fragment"
    }
   },
   "source": [
    "<ul style=\"margin-left: 2em; list-style-type: circle;\">\n",
    "    <li><a href=\"./Supplemental Exercises.ipynb\">Extra Exercises and Practice</a></li>\n",
    "</ul>"
   ]
  }
 ],
 "metadata": {
  "celltoolbar": "Slideshow",
  "kernelspec": {
   "display_name": "Python 3 (ipykernel)",
   "language": "python",
   "name": "python3"
  },
  "language_info": {
   "codemirror_mode": {
    "name": "ipython",
    "version": 3
   },
   "file_extension": ".py",
   "mimetype": "text/x-python",
   "name": "python",
   "nbconvert_exporter": "python",
   "pygments_lexer": "ipython3",
   "version": "3.9.13"
  }
 },
 "nbformat": 4,
 "nbformat_minor": 5
}
