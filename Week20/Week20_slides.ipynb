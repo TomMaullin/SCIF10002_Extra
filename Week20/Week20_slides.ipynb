{
 "cells": [
  {
   "cell_type": "markdown",
   "id": "cb8e22d9",
   "metadata": {
    "slideshow": {
     "slide_type": "slide"
    }
   },
   "source": [
    "# Introduction to Coding and Data Analysis for Scientists"
   ]
  },
  {
   "cell_type": "markdown",
   "id": "1e18711b",
   "metadata": {
    "slideshow": {
     "slide_type": "fragment"
    }
   },
   "source": [
    "## Week 20: Consolidation"
   ]
  },
  {
   "cell_type": "markdown",
   "id": "6d16238f",
   "metadata": {
    "slideshow": {
     "slide_type": "slide"
    }
   },
   "source": [
    "## Important: Project 4 Release"
   ]
  },
  {
   "cell_type": "markdown",
   "id": "d6ca4891",
   "metadata": {
    "slideshow": {
     "slide_type": "fragment"
    }
   },
   "source": [
    " - The **fourth and final** summative project will be released next week on the **12th March 2025**."
   ]
  },
  {
   "cell_type": "markdown",
   "id": "7bca7e81",
   "metadata": {
    "slideshow": {
     "slide_type": "fragment"
    }
   },
   "source": [
    " - This is assessed!! "
   ]
  },
  {
   "cell_type": "markdown",
   "id": "a8819215",
   "metadata": {
    "slideshow": {
     "slide_type": "fragment"
    }
   },
   "source": [
    " - It is 40% of your mark."
   ]
  },
  {
   "cell_type": "markdown",
   "id": "d8593e67",
   "metadata": {
    "slideshow": {
     "slide_type": "fragment"
    }
   },
   "source": [
    " - Submission is **NOT** via noteable. The assessment and submission portal are on blackboard."
   ]
  },
  {
   "cell_type": "markdown",
   "id": "aa1001af",
   "metadata": {
    "slideshow": {
     "slide_type": "fragment"
    }
   },
   "source": [
    " - `blackboard > Introduction to Coding and Data Analysis for Scientists 2024 > Assessment, submission and feedback`"
   ]
  },
  {
   "cell_type": "markdown",
   "id": "9adb6962",
   "metadata": {
    "slideshow": {
     "slide_type": "fragment"
    }
   },
   "source": [
    " - Follow the project 4 submission instructions."
   ]
  },
  {
   "cell_type": "markdown",
   "id": "d07cc32c",
   "metadata": {
    "slideshow": {
     "slide_type": "fragment"
    }
   },
   "source": [
    " - Tutorial 7 will have further details."
   ]
  },
  {
   "cell_type": "markdown",
   "id": "be3f84be",
   "metadata": {
    "slideshow": {
     "slide_type": "fragment"
    }
   },
   "source": [
    " - **Due:  Wednesday 26 March 2025 at 12 midday.**"
   ]
  },
  {
   "cell_type": "markdown",
   "id": "3ba722e6",
   "metadata": {
    "slideshow": {
     "slide_type": "slide"
    }
   },
   "source": [
    "## Topic areas "
   ]
  },
  {
   "cell_type": "markdown",
   "id": "5bcc053c",
   "metadata": {
    "slideshow": {
     "slide_type": "fragment"
    }
   },
   "source": [
    "<img src=\"qr.png\" width=\"500\">"
   ]
  },
  {
   "cell_type": "markdown",
   "id": "56ad6dee",
   "metadata": {
    "slideshow": {
     "slide_type": "slide"
    }
   },
   "source": [
    "## Question 1"
   ]
  },
  {
   "cell_type": "markdown",
   "id": "6b360a2f",
   "metadata": {
    "slideshow": {
     "slide_type": "fragment"
    }
   },
   "source": [
    "\n",
    "\n",
    "Which topics do you feel less confident in?"
   ]
  },
  {
   "cell_type": "markdown",
   "id": "6ce4f0ea",
   "metadata": {
    "slideshow": {
     "slide_type": "fragment"
    }
   },
   "source": [
    "1. **Python the language** - variables, loops, branches, functions"
   ]
  },
  {
   "cell_type": "markdown",
   "id": "f9a62d7e",
   "metadata": {
    "slideshow": {
     "slide_type": "fragment"
    }
   },
   "source": [
    "2. **Numpy** - array objects and properties, indexing, numpy functions"
   ]
  },
  {
   "cell_type": "markdown",
   "id": "69895d39",
   "metadata": {
    "slideshow": {
     "slide_type": "fragment"
    }
   },
   "source": [
    "3. **Pandas** - DataFrames, filtering, timeseries"
   ]
  },
  {
   "cell_type": "markdown",
   "id": "6848b23c",
   "metadata": {
    "slideshow": {
     "slide_type": "fragment"
    }
   },
   "source": [
    "4. **Plotting** - Pyplot (matplotlib), plotting using pandas"
   ]
  },
  {
   "cell_type": "markdown",
   "id": "8d57f04e",
   "metadata": {
    "slideshow": {
     "slide_type": "slide"
    }
   },
   "source": [
    "## Question 2"
   ]
  },
  {
   "cell_type": "markdown",
   "id": "bba5dc4c",
   "metadata": {
    "slideshow": {
     "slide_type": "fragment"
    }
   },
   "source": [
    "Today, you will have free choice to look at a selection of exercises. Which will you look at?"
   ]
  },
  {
   "cell_type": "markdown",
   "id": "6921485b",
   "metadata": {
    "slideshow": {
     "slide_type": "fragment"
    }
   },
   "source": [
    "1. **Python the language** - variables, loops, branches, functions"
   ]
  },
  {
   "cell_type": "markdown",
   "id": "b332de07",
   "metadata": {
    "slideshow": {
     "slide_type": "fragment"
    }
   },
   "source": [
    "2. **Numpy** - array objects and properties, indexing, numpy functions"
   ]
  },
  {
   "cell_type": "markdown",
   "id": "18b945fc",
   "metadata": {
    "slideshow": {
     "slide_type": "fragment"
    }
   },
   "source": [
    "3. **Pandas** - DataFrames, filtering, timeseries"
   ]
  },
  {
   "cell_type": "markdown",
   "id": "2cbd217c",
   "metadata": {
    "slideshow": {
     "slide_type": "fragment"
    }
   },
   "source": [
    "4. **Plotting** - Pyplot (matplotlib), plotting using pandas"
   ]
  },
  {
   "cell_type": "markdown",
   "id": "a0a5f270",
   "metadata": {
    "slideshow": {
     "slide_type": "slide"
    }
   },
   "source": [
    "## Question 3"
   ]
  },
  {
   "cell_type": "markdown",
   "id": "abbe666d",
   "metadata": {
    "slideshow": {
     "slide_type": "fragment"
    }
   },
   "source": [
    "What would you like more practice doing?"
   ]
  },
  {
   "cell_type": "markdown",
   "id": "9c4e9ce8",
   "metadata": {
    "slideshow": {
     "slide_type": "fragment"
    }
   },
   "source": [
    "*e.g. writing functions, reading files,...*"
   ]
  },
  {
   "cell_type": "markdown",
   "id": "7df27e98",
   "metadata": {
    "slideshow": {
     "slide_type": "fragment"
    }
   },
   "source": [
    "Please try to be specific!"
   ]
  },
  {
   "cell_type": "markdown",
   "id": "f5d7b3ae",
   "metadata": {
    "slideshow": {
     "slide_type": "fragment"
    }
   },
   "source": [
    "(\"Everything\" or \"nothing\" might not be too helpful!)"
   ]
  },
  {
   "cell_type": "markdown",
   "id": "8c398413",
   "metadata": {
    "slideshow": {
     "slide_type": "slide"
    }
   },
   "source": [
    "## Today's session (Week 20)\n"
   ]
  },
  {
   "cell_type": "markdown",
   "id": "549ed898",
   "metadata": {
    "slideshow": {
     "slide_type": "fragment"
    }
   },
   "source": [
    "**Aim**: Identity which areas you would like to practice and improve."
   ]
  },
  {
   "cell_type": "markdown",
   "id": "48fe270a",
   "metadata": {
    "slideshow": {
     "slide_type": "fragment"
    }
   },
   "source": [
    "1. Choose your own activity:"
   ]
  },
  {
   "cell_type": "markdown",
   "id": "8c45579b",
   "metadata": {
    "slideshow": {
     "slide_type": "fragment"
    }
   },
   "source": [
    "<ul style=\"margin-left: 2em; list-style-type: circle;\">\n",
    "    <li><a href=\"../../Course_SCIF10002_2024/Week20/Week20_01A_Python.ipynb\">Week20_01A_Python</a></li>\n",
    "</ul>"
   ]
  },
  {
   "cell_type": "markdown",
   "id": "63e74eac",
   "metadata": {
    "slideshow": {
     "slide_type": "fragment"
    }
   },
   "source": [
    "<ul style=\"margin-left: 2em; list-style-type: circle;\">\n",
    "    <li><a href=\"../../Course_SCIF10002_2024/Week20/Week20_01B_Numpy.ipynb\">Week20_01B_Numpy</a></li>\n",
    "</ul>"
   ]
  },
  {
   "cell_type": "markdown",
   "id": "b826bf4a",
   "metadata": {
    "slideshow": {
     "slide_type": "fragment"
    }
   },
   "source": [
    "<ul style=\"margin-left: 2em; list-style-type: circle;\">\n",
    "    <li><a href=\"../../Course_SCIF10002_2024/Week20/Week20_01C_Pandas.ipynb\">Week20_01C_Pandas</a></li>\n",
    "</ul>"
   ]
  },
  {
   "cell_type": "markdown",
   "id": "676fa2f3",
   "metadata": {
    "slideshow": {
     "slide_type": "fragment"
    }
   },
   "source": [
    "<ul style=\"margin-left: 2em; list-style-type: circle;\">\n",
    "    <li><a href=\"../../Course_SCIF10002_2024/Week20/Week20_01D_Plotting.ipynb\">Week20_01D_Plotting</a></li>\n",
    "</ul>"
   ]
  },
  {
   "cell_type": "markdown",
   "id": "1fdf28c0",
   "metadata": {
    "slideshow": {
     "slide_type": "fragment"
    }
   },
   "source": [
    "<ul style=\"margin-left: 2em; list-style-type: circle;\">\n",
    "    <li><a href=\"./Supplemental Exercises.ipynb\">Extra Exercises and Practice</a></li>\n",
    "</ul>"
   ]
  }
 ],
 "metadata": {
  "celltoolbar": "Slideshow",
  "kernelspec": {
   "display_name": "Python 3 (ipykernel)",
   "language": "python",
   "name": "python3"
  },
  "language_info": {
   "codemirror_mode": {
    "name": "ipython",
    "version": 3
   },
   "file_extension": ".py",
   "mimetype": "text/x-python",
   "name": "python",
   "nbconvert_exporter": "python",
   "pygments_lexer": "ipython3",
   "version": "3.9.13"
  }
 },
 "nbformat": 4,
 "nbformat_minor": 5
}
