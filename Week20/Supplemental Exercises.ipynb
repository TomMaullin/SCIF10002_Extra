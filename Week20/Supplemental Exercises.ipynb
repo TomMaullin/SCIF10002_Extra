{
 "cells": [
  {
   "cell_type": "markdown",
   "id": "e689743f",
   "metadata": {},
   "source": [
    "# Supplemental Exercises"
   ]
  },
  {
   "cell_type": "markdown",
   "id": "cfd77dca",
   "metadata": {},
   "source": [
    "This notebook contains supplementary exercises for the week 20 class of `Introduction to Coding for Data Analysis and Scientists`. These exercises are **optional** and only intended to give you extra practice.\n",
    "\n",
    "That said, coding is all about practice! So if you are struggling, we do recommend you try to do these exercises if you have the time.\n",
    "\n",
    "**Note:** We strongly encourage you not to use AI for these questions. Coding is a skill; the aim of these exercises is not to get the correct answer, but to get practice and gain resilience!"
   ]
  },
  {
   "cell_type": "markdown",
   "id": "9987e1eb",
   "metadata": {},
   "source": [
    "## Section 1: Datatypes, loops and logic"
   ]
  },
  {
   "cell_type": "markdown",
   "id": "14c142eb",
   "metadata": {},
   "source": [
    "### Question 1\n",
    "\n",
    "In the below code block there are 12 strings; the `startString`, ten arbitrary looking strings and the `endString`. The aim of this exercise is to obtain the `endString` using only:\n",
    "   - `startString`\n",
    "   - `string1,... string10`\n",
    "   - the `replace` function\n",
    "   \n",
    "A solution to this problem exists in 5 steps. We have given you the first step to help get you started! \n",
    "\n",
    "*Hint: You may not need all 10 of the arbitrary looking strings.*"
   ]
  },
  {
   "cell_type": "code",
   "execution_count": null,
   "id": "d5db0ed6",
   "metadata": {},
   "outputs": [],
   "source": [
    "# String to start from\n",
    "startString = 'Thas as te arang we want!'\n",
    "print('Start:  ', startString)\n",
    "\n",
    "# You can use these strings\n",
    "string1 = 'a'\n",
    "string2 = 'st'\n",
    "string3 = 'he a'\n",
    "string4 = ' ge'\n",
    "string5 = 'stri'\n",
    "string6 = 'sts'\n",
    "string7 = 'is'\n",
    "string8 = 'ara'\n",
    "string9 = 'gen'\n",
    "string10 = 'e a'\n",
    "\n",
    "# Step 1\n",
    "step1 = startString.replace(string1,string2)\n",
    "print('Step 1: ',step1)\n",
    "\n",
    "# Step 2\n",
    "step2 = step1.replace(string_ , string_) # Fill in the underscores\n",
    "print('Step 2: ', step2)\n",
    "\n",
    "# ... Repeat this process 3 more times\n",
    "\n",
    "print('...')\n",
    "\n",
    "\n",
    "# You should end up with this string\n",
    "endString = 'This is the string we want!'\n",
    "print('End:    ', endString)"
   ]
  },
  {
   "cell_type": "markdown",
   "id": "2614ae74",
   "metadata": {},
   "source": [
    "Once you have an answer, check that your final string is the correct string using an appropriate boolean operator!"
   ]
  },
  {
   "cell_type": "markdown",
   "id": "40de8b14",
   "metadata": {},
   "source": [
    "### Question 2\n",
    "\n",
    "Given the two strings in the code block below, use a `while` loop and the `split` function to make a new string which contains:\n",
    " - the 1st word from the 1st string\n",
    " - the 1st word from the 2nd string\n",
    " - the 2nd word from the 1st string\n",
    " - the 2nd word from the 2nd string\n",
    " - the 3rd word from the 1st string\n",
    " - ... and so on\n",
    " \n",
    "Each word must be seperated from the last with a space."
   ]
  },
  {
   "cell_type": "code",
   "execution_count": null,
   "id": "70daa6a8",
   "metadata": {},
   "outputs": [],
   "source": [
    "firstString = 'This seems have broken two strings. thats'\n",
    "secondString = 'sentence to been into seperate Well, annoying.'"
   ]
  },
  {
   "cell_type": "markdown",
   "id": "5f674325",
   "metadata": {},
   "source": [
    "### Question 3\n",
    "\n",
    "Using a `for` loop, return the square of all of the elements in the list below which are greater than 2 or less than -2.5."
   ]
  },
  {
   "cell_type": "code",
   "execution_count": null,
   "id": "112849d6",
   "metadata": {},
   "outputs": [],
   "source": [
    "examplelist = [1,-2.8,-2.1,-0.03,0.04,-1.9,1.0,20.8,1, -3,3.2]\n",
    "outputlist=#..."
   ]
  },
  {
   "cell_type": "markdown",
   "id": "fbfb7f84",
   "metadata": {},
   "source": [
    "Now do the same but using a list comprehension."
   ]
  },
  {
   "cell_type": "code",
   "execution_count": null,
   "id": "ea350ea7",
   "metadata": {},
   "outputs": [],
   "source": [
    "outputlist=#..."
   ]
  },
  {
   "cell_type": "markdown",
   "id": "02b252b0",
   "metadata": {},
   "source": [
    "## Section 2: Functions, Modules and Packages"
   ]
  },
  {
   "cell_type": "markdown",
   "id": "72af9ff0",
   "metadata": {},
   "source": [
    "### Question 1\n",
    "\n",
    "From the package `time`, try importing the function `time`. See if you can work out what this function does (you may have to look online)."
   ]
  },
  {
   "cell_type": "code",
   "execution_count": 2,
   "id": "1ef3fe86",
   "metadata": {},
   "outputs": [],
   "source": [
    "# Try importing time; the python help function might be useful here"
   ]
  },
  {
   "cell_type": "markdown",
   "id": "2464e5a5",
   "metadata": {},
   "source": [
    "### Question 2\n",
    "\n",
    "The $n$th Fibonnaci number, $F(n)$, is defined by the following recurrence relation;\n",
    "\n",
    "$F(0)=0, F(1)=1$ and $F(n)=F(n-1)+F(n-2)$ for $n>1$\n",
    "\n",
    "Write a function `Fibonnaci` which takes in a list of integers `[x1,x2,...,xk]` of arbitrary length and returns their corresponding fibonnaci numbers, i.e. `[F(x1),F(x2),...,F(xk)]`."
   ]
  },
  {
   "cell_type": "code",
   "execution_count": null,
   "id": "fdfde6be",
   "metadata": {},
   "outputs": [],
   "source": [
    "# Here is some example input\n",
    "exampleInput = [3,1,2,7]\n",
    "\n",
    "# And it's expected output\n",
    "expectedOutput = [2,1,1,13]\n",
    "\n",
    "# Write your function here\n",
    "def Fibonnaci(inputList):\n",
    "    \n",
    "    # ...\n",
    "    \n",
    "\n",
    "\n",
    "# Check your answer against this expected output\n",
    "print(Fibonnaci(exampleInput))\n",
    "print(expectedOutput)"
   ]
  },
  {
   "cell_type": "markdown",
   "id": "b6984c74",
   "metadata": {},
   "source": [
    "### Question 3\n",
    "\n",
    "Write a function, `sumstrings` which takes in an arbitrary number of arguments, each a string which represents an integer between 1 and 10 (e.g. `one`, `two`, `three`,... `ten`), and returns the sum of the strings in numeric form. e.g. `sumstrings('ten', 'five', 'eight')` should return the integer 23. \n",
    "\n",
    "*Extra challenge: Make it so that your function inputs are not case sensitive. I.e. an input of 'ten' should be treated the same as 'tEn', 'TEn', 'TEN', etc.*"
   ]
  },
  {
   "cell_type": "code",
   "execution_count": null,
   "id": "cb81101b",
   "metadata": {},
   "outputs": [],
   "source": [
    "def sumstrings(*args):\n",
    "    \n",
    "    # Write your function here\n",
    "\n",
    "print(sumstrings('one', 'one', 'nine',)) # This should give 11\n",
    "print(sumstrings('three', 'seVen',)) # This should give 10\n"
   ]
  },
  {
   "cell_type": "markdown",
   "id": "d656ff31",
   "metadata": {},
   "source": [
    "### Question 4 (hard) \n",
    "\n",
    "The [\"Look and Say\"](https://en.wikipedia.org/wiki/Look-and-say_sequence) sequence is a sequence of integers defined in the following way.\n",
    "\n",
    " - The first member of the \"Look and Say\" sequence is 1, i.e. $l(1) = 1$.\n",
    " - To generate a member of the sequence from the previous member, read the digits of the previous member, counting the number of digits in groups of the same digit. For example:\n",
    "   - 1 is read off as \"one 1\" or 11 ($l(2) = 11$).\n",
    "   - 11 is read off as \"two 1s\" or 21 ($l(3) = 21$).\n",
    "   - 21 is read off as \"one 2, then one 1\" or 1211 ($l(4) = 1211$).\n",
    "   - 1211 is read off as \"one 1, one 2, then two 1s\" or 111221 ($l(5) = 111221$).\n",
    "   - 111221 is read off as \"three 1s, two 2s, then one 1\" or 312211 ($l(6) = 312211$).\n",
    "\n",
    "Write a function which, given the kth integer from the look and say sequence, $l(k)$, computes the (k+1)th integer in the sequence, $l(k+1)$. *Hint: The `str` constructor may be helpful for this task!*"
   ]
  },
  {
   "cell_type": "code",
   "execution_count": null,
   "id": "441b981a",
   "metadata": {},
   "outputs": [],
   "source": [
    "# This function must take in a look and say number, l(k),\n",
    "# and return the next number in the sequence, l(k+1).\n",
    "def next_las(las_k):\n",
    "    \n",
    "    # Write your function here\n",
    "\n",
    "    \n",
    "# Test - to check your answer try it on the examples listed above\n",
    "print(next_las(1))\n",
    "print(next_las(11))\n",
    "print(next_las(21))\n",
    "print(next_las(1211))\n",
    "print(next_las(111221))"
   ]
  },
  {
   "cell_type": "markdown",
   "id": "92ab791b",
   "metadata": {},
   "source": [
    "Using your function from the above, now write a function `las_k` which given an integer, $k$, returns the kth look and say number, $l(k)$."
   ]
  },
  {
   "cell_type": "code",
   "execution_count": null,
   "id": "957f1652",
   "metadata": {},
   "outputs": [],
   "source": [
    "# This function must take in an integer k and return the\n",
    "# kth look and say number, l(k).\n",
    "def get_las_k(k):\n",
    "    \n",
    "    # Write your function here\n",
    "    \n",
    "\n",
    "# Test your function here:\n",
    "print(get_las_k(1)) # This should give 1\n",
    "print(get_las_k(2)) # This should give 11\n",
    "print(get_las_k(5)) # This should give 111221"
   ]
  },
  {
   "cell_type": "markdown",
   "id": "91172539",
   "metadata": {},
   "source": [
    "Finally, using your function from the previous part, `get_las_k`, write a function which takes in a list of integers of arbitrary length, `[k1, k2,...kn]`, and returns the corresponding \"look and say\" number for each integer in the list, i.e. `[l(k1), l(k2),...l(kn)]`. *Note: Do not worry about trying to make your code fast/efficient - the purpose of this exercise is just to return the numbers*."
   ]
  },
  {
   "cell_type": "code",
   "execution_count": null,
   "id": "89bd6bd5",
   "metadata": {},
   "outputs": [],
   "source": [
    "# This function must take in a list of integers and \n",
    "# return the corresponding list of look and say numbers\n",
    "def get_las_list(inputlist):\n",
    "    \n",
    "    # Write your function here\n",
    "    \n",
    "# Test - try your function on the below\n",
    "print(get_las_list([10, 1, 4])) # This should give [13211311123113112211, 1, 1211]"
   ]
  },
  {
   "cell_type": "markdown",
   "id": "2e6d1638",
   "metadata": {},
   "source": [
    "Give 3 reasons why you think it may be better to lay out your code in functions in this way. "
   ]
  },
  {
   "cell_type": "markdown",
   "id": "32fbfb9a",
   "metadata": {},
   "source": [
    "## Section 3: Numpy"
   ]
  },
  {
   "cell_type": "markdown",
   "id": "59d5b3cb",
   "metadata": {},
   "source": [
    "### Question 1\n",
    "\n",
    "In the file `triangle.txt` you will find a list of [triangular numbers](https://en.wikipedia.org/wiki/Triangular_number). Load this file in as a numpy array using the [`np.loadtxt`](https://numpy.org/doc/stable/reference/generated/numpy.loadtxt.html) function. You will notice that the array is a strange shape. Save the original shape of the array as a variable in your workspace and then reshape the array into a row vector."
   ]
  },
  {
   "cell_type": "code",
   "execution_count": null,
   "id": "895c7b14",
   "metadata": {},
   "outputs": [],
   "source": [
    "# Write your code here"
   ]
  },
  {
   "cell_type": "markdown",
   "id": "01eb11ae",
   "metadata": {},
   "source": [
    "One of the values in the array is incorrect. See if you can work out which value it is and replace it in your array. You will need the formula for a triangle number;\n",
    "\n",
    "$T(n) = \\frac{n(n+1)}{2}$\n",
    "\n",
    "*Extra challenge: Save the triangular numbers back to `triangle.txt` in integer format (i.e. without any decimal points. You may need the [numpy documentation](https://docs.scipy.org/doc/numpy/reference/generated/numpy.savetxt.html) for this question.)*"
   ]
  },
  {
   "cell_type": "markdown",
   "id": "854cf074",
   "metadata": {},
   "source": [
    "## Question 2 \n",
    "\n",
    "Using array broadcasting, demean and rescale all the columns of the below numpy array (i.e. subtract the mean from each column and then divide each column by it's standard deviation). Print the new mean and standard deviation of each column to demonstrate your code worked. *You may need to do your own research online for this question.*"
   ]
  },
  {
   "cell_type": "code",
   "execution_count": 4,
   "id": "ea2a21ba",
   "metadata": {},
   "outputs": [
    {
     "ename": "NameError",
     "evalue": "name 'np' is not defined",
     "output_type": "error",
     "traceback": [
      "\u001b[0;31m---------------------------------------------------------------------------\u001b[0m",
      "\u001b[0;31mNameError\u001b[0m                                 Traceback (most recent call last)",
      "Cell \u001b[0;32mIn[4], line 2\u001b[0m\n\u001b[1;32m      1\u001b[0m \u001b[38;5;66;03m# Matrix to demean\u001b[39;00m\n\u001b[0;32m----> 2\u001b[0m X \u001b[38;5;241m=\u001b[39m \u001b[43mnp\u001b[49m\u001b[38;5;241m.\u001b[39mrandom\u001b[38;5;241m.\u001b[39mrandn(\u001b[38;5;241m100\u001b[39m,\u001b[38;5;241m10\u001b[39m)\n",
      "\u001b[0;31mNameError\u001b[0m: name 'np' is not defined"
     ]
    }
   ],
   "source": [
    "# Matrix to demean\n",
    "X = np.random.randn(100,10)\n",
    "\n",
    "# Write your code here"
   ]
  },
  {
   "cell_type": "markdown",
   "id": "19674417",
   "metadata": {},
   "source": [
    "Now, by transposing, demean and rescale `X` *row-wise*."
   ]
  },
  {
   "cell_type": "code",
   "execution_count": 5,
   "id": "30334184",
   "metadata": {},
   "outputs": [],
   "source": [
    "# Write your code here"
   ]
  },
  {
   "cell_type": "markdown",
   "id": "5ee2119f",
   "metadata": {},
   "source": [
    "### Question 3\n",
    "\n",
    "Write a function, `divisors`, which given an integer $k$, returns a numpy array of all [divisors](https://en.wikipedia.org/wiki/Divisor) of $k$. *Hint: The `%` operator may be useful here*."
   ]
  },
  {
   "cell_type": "code",
   "execution_count": null,
   "id": "b8469603",
   "metadata": {},
   "outputs": [],
   "source": [
    "def divisors(k):\n",
    "    \n",
    "    # Write your code here\n",
    "\n",
    "# Example \n",
    "print(divisors(100)) # Should give [  1   2   4   5  10  20  25  50 100]"
   ]
  },
  {
   "cell_type": "markdown",
   "id": "09fc08df",
   "metadata": {},
   "source": [
    "### Question 4\n",
    "\n",
    "Write a function which as input takes in a square matrix (in numpy array format) of arbitrary size and transforms it into a vector of each of the columns of the matrix stacked on top of one another. For example, given a matrix of the below form, your function should return a column vector like so:\n",
    "\n",
    "$$\\begin{bmatrix} a & b & c \\\\ d & e & f \\\\ g & h & i \\\\\\end{bmatrix} \\rightarrow \\begin{bmatrix} a \\\\ d \\\\ g \\\\ b \\\\ e \\\\ h \\\\ c \\\\ f \\\\ i \\end{bmatrix}$$."
   ]
  },
  {
   "cell_type": "code",
   "execution_count": null,
   "id": "36234f2d",
   "metadata": {},
   "outputs": [],
   "source": [
    "def mat2vec(matrix):\n",
    "  \n",
    "  # Write your function here\n",
    "\n",
    "# Use this example to test your code\n",
    "matrix = np.random.randn(3,3)\n",
    "print(matrix)\n",
    "print(mat2vec(matrix))"
   ]
  },
  {
   "cell_type": "markdown",
   "id": "119429fe",
   "metadata": {},
   "source": [
    "Now, write a function which does the reverse. I.e. your fuction should take as input a vector of size $k^2$ by 1, for some arbitrary integer $k$, and return a $k$ by $k$ matrix such that the original vector is each of the columns of the matrix stacked on top of one another. \n",
    "\n",
    "For example, given a vector of the below form, your function should return a matrix like so:\n",
    "\n",
    "$$\\begin{bmatrix} a \\\\ d \\\\ g \\\\ b \\\\ e \\\\ h \\\\ c \\\\ f \\\\ i \\end{bmatrix} \\rightarrow \\begin{bmatrix} a & b & c \\\\ d & e & f \\\\ g & h & i \\\\\\end{bmatrix}$$."
   ]
  },
  {
   "cell_type": "code",
   "execution_count": null,
   "id": "b6138a7a",
   "metadata": {},
   "outputs": [],
   "source": [
    "def vec2mat(matrix):\n",
    "  \n",
    "  # Write your function here\n",
    "\n",
    "# Use this example to test your code\n",
    "vec = np.array([[1,2,3,4]]).transpose()\n",
    "mat = vec2mat(vec)\n",
    "print(vec)\n",
    "print(mat)"
   ]
  },
  {
   "cell_type": "markdown",
   "id": "edb4f391",
   "metadata": {},
   "source": [
    "As a final test, check that running `vec2mat` followed by `mat2vec` on a numpy array of appropriate size gives the same numpy array you started with:"
   ]
  },
  {
   "cell_type": "code",
   "execution_count": null,
   "id": "957884e0",
   "metadata": {},
   "outputs": [],
   "source": [
    "print(vec2mat(mat2vec(matrix))==matrix)\n",
    "print(mat2vec(vec2mat(vec))==vec)"
   ]
  },
  {
   "cell_type": "markdown",
   "id": "6067d5ac",
   "metadata": {},
   "source": [
    "### Question 5 (hard)\n",
    "\n",
    "Assume in this question that, for simplicity, that $X$, $A$, $B$ and $C$ are all square matrices of size $n$ by $n$. The [Lyapunov Equation](https://www.math.uwaterloo.ca/~hwolkowi/matrixcookbook.pdf) tells us the following: if we have a matrix equation of the form;\n",
    "\n",
    "$AX + XB = C$\n",
    "\n",
    "Then it can be rearranged to obtain $X$ in the following way:\n",
    "\n",
    "$\\text{vec}(X) = (I \\otimes A + B^T \\otimes I)^{-1}\\text{vec}(C)$\n",
    "\n",
    "Where;\n",
    " - $\\otimes$ is the [kronecker product](https://en.wikipedia.org/wiki/Kronecker_product).\n",
    " - $I$ is the $n$ by $n$ identity matrix.\n",
    " - `vec` represents the vec operator, which performs the same operation as the `mat2vec` function we wrote in question 4.\n",
    " \n",
    "Write a function, `lyapunov`, which, given $A$, $B$ and $C$ as numpy arrays returns $X$ as a numpy array. You will need the following functions;\n",
    " - [`np.linalg.inv`](https://docs.scipy.org/doc/numpy/reference/generated/numpy.linalg.inv.html?highlight=inv#numpy.linalg.inv): This inverts a matrix.\n",
    " - [`np.eye`](docs.scipy.org/doc/numpy/reference/generated/numpy.eye.html?highlight=eye#numpy.eye): This gives an identity matrix of a specified size, e.g. `np.eye(3)` gives the 3 by 3 identity matrix.\n",
    " - [`np.kron`](https://docs.scipy.org/doc/numpy/reference/generated/numpy.kron.html#numpy.kron): This gives the kronecker product of two matrices, i.e. `np.kron(A,B)`=$A \\otimes B$\n",
    " - The `mat2vec` and `vec2mat` functions you wrote in question 4."
   ]
  },
  {
   "cell_type": "code",
   "execution_count": null,
   "id": "c734a2af",
   "metadata": {},
   "outputs": [],
   "source": [
    "def lyapunov(A,B,C):\n",
    "    \n",
    "    # Write your function here\n",
    "\n",
    "# Example for you to test on; random A B and X\n",
    "A = np.random.randn(5,5)\n",
    "B = np.random.randn(5,5)\n",
    "X = np.random.randn(5,5)\n",
    "\n",
    "# Work out C\n",
    "C = A @ X + X @ B\n",
    "\n",
    "# Check if your output looks like the X we used!\n",
    "print('Our calculated X:')\n",
    "print(lyapunov(A,B,C))\n",
    "print('The true X:')\n",
    "print(X)"
   ]
  }
 ],
 "metadata": {
  "kernelspec": {
   "display_name": "Python 3 (ipykernel)",
   "language": "python",
   "name": "python3"
  },
  "language_info": {
   "codemirror_mode": {
    "name": "ipython",
    "version": 3
   },
   "file_extension": ".py",
   "mimetype": "text/x-python",
   "name": "python",
   "nbconvert_exporter": "python",
   "pygments_lexer": "ipython3",
   "version": "3.9.13"
  }
 },
 "nbformat": 4,
 "nbformat_minor": 5
}
