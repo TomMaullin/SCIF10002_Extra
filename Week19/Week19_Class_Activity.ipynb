{
 "cells": [
  {
   "cell_type": "markdown",
   "id": "04865104",
   "metadata": {
    "slideshow": {
     "slide_type": "slide"
    }
   },
   "source": [
    "# Week 19 Pop Quiz"
   ]
  },
  {
   "cell_type": "markdown",
   "id": "fbcb445f",
   "metadata": {
    "slideshow": {
     "slide_type": "slide"
    }
   },
   "source": [
    "### Question 1 (Warmup)"
   ]
  },
  {
   "cell_type": "markdown",
   "id": "ca5be1c2",
   "metadata": {
    "slideshow": {
     "slide_type": "fragment"
    }
   },
   "source": [
    "What will the following code print when executed?"
   ]
  },
  {
   "cell_type": "code",
   "execution_count": null,
   "id": "b1ce54e8",
   "metadata": {
    "slideshow": {
     "slide_type": "fragment"
    }
   },
   "outputs": [],
   "source": [
    "x = 3.5\n",
    "print(x-float(int(x)))"
   ]
  },
  {
   "cell_type": "markdown",
   "id": "4859344d",
   "metadata": {
    "slideshow": {
     "slide_type": "fragment"
    }
   },
   "source": [
    "**A:** 0"
   ]
  },
  {
   "cell_type": "markdown",
   "id": "24d9ecca",
   "metadata": {
    "slideshow": {
     "slide_type": "fragment"
    }
   },
   "source": [
    "**B:** 0.5"
   ]
  },
  {
   "cell_type": "markdown",
   "id": "bdfa317f",
   "metadata": {
    "slideshow": {
     "slide_type": "fragment"
    }
   },
   "source": [
    "**C:** An error"
   ]
  },
  {
   "cell_type": "markdown",
   "id": "798f31d3",
   "metadata": {
    "slideshow": {
     "slide_type": "fragment"
    }
   },
   "source": [
    "**D:** 0.0"
   ]
  },
  {
   "cell_type": "markdown",
   "id": "bf47e12a",
   "metadata": {
    "slideshow": {
     "slide_type": "slide"
    }
   },
   "source": [
    "### Question 2 (Warmup)"
   ]
  },
  {
   "cell_type": "markdown",
   "id": "38a93273",
   "metadata": {
    "slideshow": {
     "slide_type": "fragment"
    }
   },
   "source": [
    "What will the following code print when executed?"
   ]
  },
  {
   "cell_type": "code",
   "execution_count": null,
   "id": "eee9fbb9",
   "metadata": {
    "slideshow": {
     "slide_type": "fragment"
    }
   },
   "outputs": [],
   "source": [
    "my_string = 'I am a string'\n",
    "print(len(my_string.split()))"
   ]
  },
  {
   "cell_type": "markdown",
   "id": "6024e854",
   "metadata": {
    "slideshow": {
     "slide_type": "fragment"
    }
   },
   "source": [
    "**A:** 1"
   ]
  },
  {
   "cell_type": "markdown",
   "id": "943661f8",
   "metadata": {
    "slideshow": {
     "slide_type": "fragment"
    }
   },
   "source": [
    "**B:** 4"
   ]
  },
  {
   "cell_type": "markdown",
   "id": "5045d1d8",
   "metadata": {
    "slideshow": {
     "slide_type": "fragment"
    }
   },
   "source": [
    "**C:** An error"
   ]
  },
  {
   "cell_type": "markdown",
   "id": "dbda8b74",
   "metadata": {
    "slideshow": {
     "slide_type": "fragment"
    }
   },
   "source": [
    "**D:** 13"
   ]
  },
  {
   "cell_type": "markdown",
   "id": "2f08bc43",
   "metadata": {
    "slideshow": {
     "slide_type": "slide"
    }
   },
   "source": [
    "### Question 3 (Gaining Experience)"
   ]
  },
  {
   "cell_type": "markdown",
   "id": "7fce6a78",
   "metadata": {
    "slideshow": {
     "slide_type": "fragment"
    }
   },
   "source": [
    "You have 2 minutes to look up the official Python documentation for `round()`. Without coding or asking AI, pick the best description of `round`s default behavior:"
   ]
  },
  {
   "cell_type": "markdown",
   "id": "91167f51",
   "metadata": {
    "slideshow": {
     "slide_type": "fragment"
    }
   },
   "source": [
    "**A:** Always rounds up."
   ]
  },
  {
   "cell_type": "markdown",
   "id": "bf08be31",
   "metadata": {
    "slideshow": {
     "slide_type": "fragment"
    }
   },
   "source": [
    "**B:** Always rounds down."
   ]
  },
  {
   "cell_type": "markdown",
   "id": "2bbddc58",
   "metadata": {
    "slideshow": {
     "slide_type": "fragment"
    }
   },
   "source": [
    "**C:** Rounds to the nearest whole number, following standard rounding rules.  "
   ]
  },
  {
   "cell_type": "markdown",
   "id": "0df89462",
   "metadata": {
    "slideshow": {
     "slide_type": "fragment"
    }
   },
   "source": [
    "**D:** Plots a circle."
   ]
  },
  {
   "cell_type": "markdown",
   "id": "2070956f",
   "metadata": {
    "slideshow": {
     "slide_type": "slide"
    }
   },
   "source": [
    "### Question 4 (Importing)"
   ]
  },
  {
   "cell_type": "markdown",
   "id": "55218ebc",
   "metadata": {
    "slideshow": {
     "slide_type": "fragment"
    }
   },
   "source": [
    " What does the `import` statement do in a `Jupyter Notebook`?"
   ]
  },
  {
   "cell_type": "markdown",
   "id": "d950770f",
   "metadata": {
    "slideshow": {
     "slide_type": "fragment"
    }
   },
   "source": [
    "**A:** Define a new function from scratch.  "
   ]
  },
  {
   "cell_type": "markdown",
   "id": "c60da7ab",
   "metadata": {
    "slideshow": {
     "slide_type": "fragment"
    }
   },
   "source": [
    "**B:** Load external modules into the notebook.  "
   ]
  },
  {
   "cell_type": "markdown",
   "id": "5bfa91f8",
   "metadata": {
    "slideshow": {
     "slide_type": "fragment"
    }
   },
   "source": [
    "**C:** Restart the notebook.  "
   ]
  },
  {
   "cell_type": "markdown",
   "id": "3c56140b",
   "metadata": {
    "slideshow": {
     "slide_type": "fragment"
    }
   },
   "source": [
    "**D:** Execute a function."
   ]
  },
  {
   "cell_type": "markdown",
   "id": "c7f7c49f",
   "metadata": {
    "slideshow": {
     "slide_type": "slide"
    }
   },
   "source": [
    "### Question 5 (Importing)"
   ]
  },
  {
   "cell_type": "markdown",
   "id": "c441becc",
   "metadata": {
    "slideshow": {
     "slide_type": "fragment"
    }
   },
   "source": [
    "You often use the `numpy` module and want to shorten its name to `np`. Which import statement lets you use `np.array()` instead of `numpy.array()`?\n"
   ]
  },
  {
   "cell_type": "markdown",
   "id": "29b8eb94",
   "metadata": {
    "slideshow": {
     "slide_type": "fragment"
    }
   },
   "source": [
    "**A:** `import numpy as np`  "
   ]
  },
  {
   "cell_type": "markdown",
   "id": "7a695d25",
   "metadata": {
    "slideshow": {
     "slide_type": "fragment"
    }
   },
   "source": [
    "**B:** `from numpy import np`    "
   ]
  },
  {
   "cell_type": "markdown",
   "id": "e4a758e3",
   "metadata": {
    "slideshow": {
     "slide_type": "fragment"
    }
   },
   "source": [
    "**C:** `import numpy.array as np`  "
   ]
  },
  {
   "cell_type": "markdown",
   "id": "19a224f6",
   "metadata": {
    "slideshow": {
     "slide_type": "fragment"
    }
   },
   "source": [
    "**D:** `import np from numpy`  "
   ]
  },
  {
   "cell_type": "markdown",
   "id": "a18b360f",
   "metadata": {
    "slideshow": {
     "slide_type": "slide"
    }
   },
   "source": [
    "### Question 6 (Importing)"
   ]
  },
  {
   "cell_type": "markdown",
   "id": "3bdc8ad0",
   "metadata": {
    "slideshow": {
     "slide_type": "fragment"
    }
   },
   "source": [
    "You only need the `choice()` function from the `random` module. What is the correct way to import and use it?  "
   ]
  },
  {
   "cell_type": "markdown",
   "id": "c89e9a8f",
   "metadata": {
    "slideshow": {
     "slide_type": "fragment"
    }
   },
   "source": [
    "**A:** `import random.choice; print(random.choice([1, 2, 3]))`  "
   ]
  },
  {
   "cell_type": "markdown",
   "id": "b2a45412",
   "metadata": {
    "slideshow": {
     "slide_type": "fragment"
    }
   },
   "source": [
    "**B:** `from random import choice; print(choice([1, 2, 3]))`  "
   ]
  },
  {
   "cell_type": "markdown",
   "id": "1320b253",
   "metadata": {
    "slideshow": {
     "slide_type": "fragment"
    }
   },
   "source": [
    "**C:** `import random as choice; print(choice([1, 2, 3]))`  "
   ]
  },
  {
   "cell_type": "markdown",
   "id": "5132d631",
   "metadata": {
    "slideshow": {
     "slide_type": "fragment"
    }
   },
   "source": [
    "**D:** `from random.choice import *; print(choice([1, 2, 3]))`  "
   ]
  }
 ],
 "metadata": {
  "celltoolbar": "Slideshow",
  "kernelspec": {
   "display_name": "Python 3 (ipykernel)",
   "language": "python",
   "name": "python3"
  },
  "language_info": {
   "codemirror_mode": {
    "name": "ipython",
    "version": 3
   },
   "file_extension": ".py",
   "mimetype": "text/x-python",
   "name": "python",
   "nbconvert_exporter": "python",
   "pygments_lexer": "ipython3",
   "version": "3.9.13"
  }
 },
 "nbformat": 4,
 "nbformat_minor": 5
}
