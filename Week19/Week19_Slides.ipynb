{
 "cells": [
  {
   "cell_type": "markdown",
   "id": "e5ba75c9",
   "metadata": {
    "slideshow": {
     "slide_type": "slide"
    }
   },
   "source": [
    "# Introduction to Coding and Data Analysis for Scientists"
   ]
  },
  {
   "cell_type": "markdown",
   "id": "3b97a0e3",
   "metadata": {
    "slideshow": {
     "slide_type": "subslide"
    }
   },
   "source": [
    "## Week 19:  Introduction to software engineering -  Modules"
   ]
  },
  {
   "cell_type": "markdown",
   "id": "4fe17eea",
   "metadata": {
    "slideshow": {
     "slide_type": "slide"
    }
   },
   "source": [
    "## Before we get started: Noteable login\n"
   ]
  },
  {
   "cell_type": "markdown",
   "id": "35015db8",
   "metadata": {
    "slideshow": {
     "slide_type": "fragment"
    }
   },
   "source": [
    "\n",
    "For this workshop, we will be using the \"Standard (Collaborative session)\" (JupyterLab) interface.\n"
   ]
  },
  {
   "cell_type": "markdown",
   "id": "5960d7a6",
   "metadata": {
    "slideshow": {
     "slide_type": "fragment"
    }
   },
   "source": [
    "\n",
    "However, to pull your latest notes (Week19) you need to **log onto our usual environment \"Standard notebook (Python 3)\" first** and use the \"+GitRepo\" button following the usual steps.\n"
   ]
  },
  {
   "cell_type": "markdown",
   "id": "2fd584f8",
   "metadata": {
    "slideshow": {
     "slide_type": "fragment"
    }
   },
   "source": [
    "After this has been completed, close your Noteable and re-open this using the \"Standard (Collaborative session)\" option."
   ]
  },
  {
   "cell_type": "markdown",
   "id": "c56b6826",
   "metadata": {
    "slideshow": {
     "slide_type": "slide"
    }
   },
   "source": [
    "## Today's session (Week 19)\n"
   ]
  },
  {
   "cell_type": "markdown",
   "id": "70ffc027",
   "metadata": {
    "slideshow": {
     "slide_type": "fragment"
    }
   },
   "source": [
    "\n",
    "**Aim**: Learn how to use functions within modules and to build on them"
   ]
  },
  {
   "cell_type": "markdown",
   "id": "feff5978",
   "metadata": {
    "slideshow": {
     "slide_type": "fragment"
    }
   },
   "source": [
    "\n",
    "\n",
    "1. Using a module and creating new functions"
   ]
  },
  {
   "cell_type": "markdown",
   "id": "a3b4bc69",
   "metadata": {
    "slideshow": {
     "slide_type": "fragment"
    }
   },
   "source": [
    "<ul style=\"margin-left: 2em; list-style-type: circle;\">\n",
    "    <li><a href=\"../../Course_SCIF10002_2024/Week19/Week19_01_Modules.ipynb\">Week19_01_Modules</a></li>\n",
    "</ul>"
   ]
  },
  {
   "cell_type": "markdown",
   "id": "3e1ff6f5",
   "metadata": {
    "slideshow": {
     "slide_type": "fragment"
    }
   },
   "source": [
    "\n",
    "2. Use matplotlib to decorate a plot - part 2"
   ]
  },
  {
   "cell_type": "markdown",
   "id": "ee6ef565",
   "metadata": {
    "slideshow": {
     "slide_type": "fragment"
    }
   },
   "source": [
    "<ul style=\"margin-left: 2em; list-style-type: circle;\">\n",
    "    <li><a href=\"../../Course_SCIF10002_2024/Week19/Week19_02_Matplotlib_decoration.ipynb\">Week19_02_Matplotlib_decoration</a></li>\n",
    "</ul>"
   ]
  },
  {
   "cell_type": "markdown",
   "id": "ae162ca4",
   "metadata": {
    "slideshow": {
     "slide_type": "slide"
    }
   },
   "source": [
    "### What is a Software Engineer?"
   ]
  },
  {
   "cell_type": "markdown",
   "id": "572b1c5f",
   "metadata": {
    "slideshow": {
     "slide_type": "fragment"
    }
   },
   "source": [
    " - Many of you may go on to develop software for a living."
   ]
  },
  {
   "cell_type": "markdown",
   "id": "e6a36b57",
   "metadata": {
    "slideshow": {
     "slide_type": "fragment"
    }
   },
   "source": [
    " - You could be asked to:"
   ]
  },
  {
   "cell_type": "markdown",
   "id": "1a439013",
   "metadata": {
    "slideshow": {
     "slide_type": "fragment"
    }
   },
   "source": [
    "<ul style=\"margin-left: 2em; list-style-type: circle;\">\n",
    "    <li>Develop code</li>\n",
    "</ul>"
   ]
  },
  {
   "cell_type": "markdown",
   "id": "b75ea871",
   "metadata": {
    "slideshow": {
     "slide_type": "fragment"
    }
   },
   "source": [
    "\n",
    "\n",
    "<ul style=\"margin-left: 2em; list-style-type: circle;\">\n",
    "    <li>Write tests</li>\n",
    "</ul>"
   ]
  },
  {
   "cell_type": "markdown",
   "id": "4da50c98",
   "metadata": {
    "slideshow": {
     "slide_type": "fragment"
    }
   },
   "source": [
    "\n",
    "<ul style=\"margin-left: 2em; list-style-type: circle;\">\n",
    "    <li>Maintain existing code basess</li>\n",
    "</ul>"
   ]
  },
  {
   "cell_type": "markdown",
   "id": "d3cd1b2c",
   "metadata": {
    "slideshow": {
     "slide_type": "fragment"
    }
   },
   "source": [
    "\n",
    "<ul style=\"margin-left: 2em; list-style-type: circle;\">\n",
    "    <li>Share and distribute code</li>\n",
    "</ul>"
   ]
  },
  {
   "cell_type": "markdown",
   "id": "8e631a96",
   "metadata": {
    "slideshow": {
     "slide_type": "fragment"
    }
   },
   "source": [
    "\n",
    "<ul style=\"margin-left: 2em; list-style-type: circle;\">\n",
    "    <li>And so forth.</li>\n",
    "</ul>"
   ]
  },
  {
   "cell_type": "markdown",
   "id": "2b311d50",
   "metadata": {
    "slideshow": {
     "slide_type": "fragment"
    }
   },
   "source": [
    " - You could be asked to do this in industry or in academia"
   ]
  },
  {
   "cell_type": "markdown",
   "id": "c6c179e5",
   "metadata": {
    "slideshow": {
     "slide_type": "fragment"
    }
   },
   "source": [
    " - To do this you will need to be able to write *modules*"
   ]
  },
  {
   "cell_type": "markdown",
   "id": "0885aebc",
   "metadata": {
    "slideshow": {
     "slide_type": "slide"
    }
   },
   "source": [
    "### What is a module?"
   ]
  },
  {
   "cell_type": "markdown",
   "id": "f4a22377",
   "metadata": {
    "slideshow": {
     "slide_type": "fragment"
    }
   },
   "source": [
    "\n",
    " - For the past 2 terms, we've been learning about Python using **Jupyter notebooks**"
   ]
  },
  {
   "cell_type": "markdown",
   "id": "b2dc188c",
   "metadata": {
    "slideshow": {
     "slide_type": "fragment"
    }
   },
   "source": [
    "\n",
    " - However... you might not want to use a jupyter notebook to:\n",
    "        "
   ]
  },
  {
   "cell_type": "markdown",
   "id": "0bd0799e",
   "metadata": {
    "slideshow": {
     "slide_type": "fragment"
    }
   },
   "source": [
    "<ul style=\"margin-left: 2em; list-style-type: circle;\">\n",
    "    <li>Execute large-scale projects</li>\n",
    "</ul>"
   ]
  },
  {
   "cell_type": "markdown",
   "id": "7dddb9b4",
   "metadata": {
    "slideshow": {
     "slide_type": "fragment"
    }
   },
   "source": [
    "<ul style=\"margin-left: 2em; list-style-type: circle;\">\n",
    "    <li>Run computationally intensive tasks</li>\n",
    "</ul>"
   ]
  },
  {
   "cell_type": "markdown",
   "id": "a843ff3c",
   "metadata": {
    "slideshow": {
     "slide_type": "fragment"
    }
   },
   "source": [
    "<ul style=\"margin-left: 2em; list-style-type: circle;\">\n",
    "    <li>Track edits made to the code.\n",
    "</ul>"
   ]
  },
  {
   "cell_type": "markdown",
   "id": "2df0e348",
   "metadata": {
    "slideshow": {
     "slide_type": "fragment"
    }
   },
   "source": [
    "<ul style=\"margin-left: 2em; list-style-type: circle;\">\n",
    "    <li>Work with long running processes.\n",
    "</ul>\n"
   ]
  },
  {
   "cell_type": "markdown",
   "id": "5025eb72",
   "metadata": {
    "slideshow": {
     "slide_type": "fragment"
    }
   },
   "source": [
    " - We want to share python code in a more flexible way - **modules**!"
   ]
  },
  {
   "cell_type": "markdown",
   "id": "9ed2aa0b",
   "metadata": {
    "slideshow": {
     "slide_type": "slide"
    }
   },
   "source": [
    "### What is a module?"
   ]
  },
  {
   "cell_type": "markdown",
   "id": "5cc5d281",
   "metadata": {
    "slideshow": {
     "slide_type": "fragment"
    }
   },
   "source": [
    " - A module is a `.py` file containing Python code."
   ]
  },
  {
   "cell_type": "markdown",
   "id": "e55a6657",
   "metadata": {
    "slideshow": {
     "slide_type": "fragment"
    }
   },
   "source": [
    " - We saw an example in week 17 (Mario)"
   ]
  },
  {
   "cell_type": "markdown",
   "id": "f3e2da2c",
   "metadata": {
    "slideshow": {
     "slide_type": "fragment"
    }
   },
   "source": [
    "<img src=\"bigfunc_image.png\" width=\"3000\">\n"
   ]
  },
  {
   "cell_type": "markdown",
   "id": "7492d12c",
   "metadata": {
    "slideshow": {
     "slide_type": "slide"
    }
   },
   "source": [
    "### Using Modules"
   ]
  },
  {
   "cell_type": "markdown",
   "id": "e63186f2",
   "metadata": {
    "slideshow": {
     "slide_type": "fragment"
    }
   },
   "source": [
    " - By writing `import bigFunction` we were able to use the code from inside the `.py` file"
   ]
  },
  {
   "cell_type": "markdown",
   "id": "fc9d844b",
   "metadata": {
    "slideshow": {
     "slide_type": "fragment"
    }
   },
   "source": [
    " - We never wrote out the `bigFunction` code in full! \n"
   ]
  },
  {
   "cell_type": "markdown",
   "id": "b690308e",
   "metadata": {
    "slideshow": {
     "slide_type": "fragment"
    }
   },
   "source": [
    " - Instead we \"imported\" it."
   ]
  },
  {
   "cell_type": "markdown",
   "id": "42501480",
   "metadata": {
    "slideshow": {
     "slide_type": "fragment"
    }
   },
   "source": [
    " - This is an extremely powerful way to write and share code."
   ]
  },
  {
   "cell_type": "markdown",
   "id": "8f980b22",
   "metadata": {
    "slideshow": {
     "slide_type": "fragment"
    }
   },
   "source": [
    " - In fact, you've already been doing this every time you write `import numpy`, `from matplotlib import pyplot`, etc"
   ]
  },
  {
   "cell_type": "markdown",
   "id": "9a5ba32a",
   "metadata": {
    "slideshow": {
     "slide_type": "slide"
    }
   },
   "source": [
    "## Pop Quiz"
   ]
  },
  {
   "cell_type": "markdown",
   "id": "cae4a8ce",
   "metadata": {
    "slideshow": {
     "slide_type": "fragment"
    }
   },
   "source": [
    "Before we dive into today's material, we'll have a quick pop quiz to ease ourselves back into coding."
   ]
  },
  {
   "cell_type": "markdown",
   "id": "f8a45f86",
   "metadata": {
    "slideshow": {
     "slide_type": "fragment"
    }
   },
   "source": [
    "<img src=\"popquizqr.png\" width=\"500\">\n"
   ]
  },
  {
   "cell_type": "markdown",
   "id": "a0117b66",
   "metadata": {
    "slideshow": {
     "slide_type": "slide"
    }
   },
   "source": [
    "## Using and building modules"
   ]
  },
  {
   "cell_type": "markdown",
   "id": "a73721f4",
   "metadata": {
    "slideshow": {
     "slide_type": "fragment"
    }
   },
   "source": [
    "We will consider how we could use and build upon a plotting function library (module).\n"
   ]
  },
  {
   "cell_type": "markdown",
   "id": "d88114db",
   "metadata": {
    "slideshow": {
     "slide_type": "fragment"
    }
   },
   "source": [
    " - [Week19_01_Modules.ipynb](../../Course_SCIF10002_2024/Week19/Week19_01_Modules.ipynb)"
   ]
  },
  {
   "cell_type": "markdown",
   "id": "fed91481",
   "metadata": {
    "slideshow": {
     "slide_type": "slide"
    }
   },
   "source": [
    "## Plot and decorate"
   ]
  },
  {
   "cell_type": "markdown",
   "id": "dca34757",
   "metadata": {
    "slideshow": {
     "slide_type": "fragment"
    }
   },
   "source": [
    "In groups, work together to create a plot containing an egg shape, which you can then decorate. To do this you should modify the underlying plotting code within a module and add additional features using matplotlib."
   ]
  },
  {
   "cell_type": "markdown",
   "id": "2a7128c1",
   "metadata": {
    "slideshow": {
     "slide_type": "fragment"
    }
   },
   "source": [
    "\n",
    " - [Week19_02_Matplotlib_decoration.ipynb](Week19_02_Matplotlib_decoration.ipynb)"
   ]
  }
 ],
 "metadata": {
  "celltoolbar": "Slideshow",
  "kernelspec": {
   "display_name": "Python 3 (ipykernel)",
   "language": "python",
   "name": "python3"
  },
  "language_info": {
   "codemirror_mode": {
    "name": "ipython",
    "version": 3
   },
   "file_extension": ".py",
   "mimetype": "text/x-python",
   "name": "python",
   "nbconvert_exporter": "python",
   "pygments_lexer": "ipython3",
   "version": "3.9.13"
  }
 },
 "nbformat": 4,
 "nbformat_minor": 5
}
