{
 "cells": [
  {
   "cell_type": "markdown",
   "id": "fdd35c39",
   "metadata": {},
   "source": [
    "## Week 17 Class Activity"
   ]
  },
  {
   "cell_type": "markdown",
   "id": "793c3035",
   "metadata": {},
   "source": [
    "## Question 1\n",
    "\n",
    "Using `matplotlib`, plot $x$ against $y$ for $x$ and $y$ defined by:\n",
    "\n",
    "$$x(t)=t-1.6\\cos(25t)$$\n",
    "$$y(t)=t-1.6\\cos(26t)$$\n",
    "\n",
    "for $t \\in [-3\\pi,2\\pi]$. *Hint: Use `np.linspace` to generate some values of `t`."
   ]
  },
  {
   "cell_type": "code",
   "execution_count": null,
   "id": "1f184245",
   "metadata": {},
   "outputs": [],
   "source": [
    "# Write your answer here..."
   ]
  },
  {
   "cell_type": "markdown",
   "id": "29413896",
   "metadata": {},
   "source": [
    "When you think you have a solution, post your answer [on this padlet link](https://padlet.com/thomasmaullinsapey1/challenge-question-1-uc364nkvbo098pkk)!"
   ]
  },
  {
   "cell_type": "markdown",
   "id": "5d889a78",
   "metadata": {},
   "source": [
    "## Question 2 \n",
    "\n",
    "Next to this notebook there is a file named `bigFunction.py`. `bigFunction.py` contains some truly horrible code, which is not worth looking at (seriously, you have been warned!). \n",
    "\n",
    "The below code will import the function `getxy` from `bigFunction.py` for you. In a similar manner to the code you should have written above, `getxy` will take as input a numpy array of `t` values and return a numpy array of `x` values and a numpy array of `y` values.\n"
   ]
  },
  {
   "cell_type": "code",
   "execution_count": null,
   "id": "ca690d01",
   "metadata": {},
   "outputs": [],
   "source": [
    "# Import the big function module\n",
    "import bigFunction\n",
    "\n",
    "# Write your answer here..."
   ]
  },
  {
   "cell_type": "markdown",
   "id": "669e260f",
   "metadata": {},
   "source": [
    "When you have computed the final image, post your answer [on this padlet link](https://padlet.com/thomasmaullinsapey1/challenge-question-1-uc364nkvbo098pkk)!"
   ]
  }
 ],
 "metadata": {
  "kernelspec": {
   "display_name": "Python 3 (ipykernel)",
   "language": "python",
   "name": "python3"
  },
  "language_info": {
   "codemirror_mode": {
    "name": "ipython",
    "version": 3
   },
   "file_extension": ".py",
   "mimetype": "text/x-python",
   "name": "python",
   "nbconvert_exporter": "python",
   "pygments_lexer": "ipython3",
   "version": "3.9.13"
  }
 },
 "nbformat": 4,
 "nbformat_minor": 5
}
